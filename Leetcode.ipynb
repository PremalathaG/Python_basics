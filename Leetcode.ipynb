{
  "nbformat": 4,
  "nbformat_minor": 0,
  "metadata": {
    "colab": {
      "provenance": []
    },
    "kernelspec": {
      "name": "python3",
      "display_name": "Python 3"
    },
    "language_info": {
      "name": "python"
    }
  },
  "cells": [
    {
      "cell_type": "code",
      "execution_count": null,
      "metadata": {
        "colab": {
          "base_uri": "https://localhost:8080/"
        },
        "id": "0Ah0LKYueOYt",
        "outputId": "f70e232e-22a4-4e54-e8fe-f10cd5fb6351"
      },
      "outputs": [
        {
          "output_type": "stream",
          "name": "stdout",
          "text": [
            "{'a', 'c', 'b'}\n"
          ]
        },
        {
          "output_type": "execute_result",
          "data": {
            "text/plain": [
              "3"
            ]
          },
          "metadata": {},
          "execution_count": 2
        }
      ],
      "source": [
        "s='abcabcbb'\n",
        "t=set(s)\n",
        "print(t)\n",
        "r=len(t)\n",
        "r"
      ]
    },
    {
      "cell_type": "code",
      "source": [
        "e= [1,2,3]\n",
        "e.reverse()\n",
        "print(e)\n"
      ],
      "metadata": {
        "colab": {
          "base_uri": "https://localhost:8080/"
        },
        "id": "kZF-_Z--gJpi",
        "outputId": "46583554-35bb-4063-dd6e-c56df4e58808"
      },
      "execution_count": null,
      "outputs": [
        {
          "output_type": "stream",
          "name": "stdout",
          "text": [
            "[3, 2, 1]\n"
          ]
        }
      ]
    },
    {
      "cell_type": "code",
      "source": [
        "print(\"Printing current and previous number and their sum in a range(10)\")\n",
        "previous_num=0\n",
        "for i in range(1,10):\n",
        "  x_sum=previous_num + i\n",
        "  print('current no ',i,'prevous no ',previous_num, 'sum  of',x_sum)\n",
        "  previous_num=i"
      ],
      "metadata": {
        "colab": {
          "base_uri": "https://localhost:8080/"
        },
        "id": "H9v3APjDpmMo",
        "outputId": "7c50f2d2-db66-4212-c1de-0291a5c2944c"
      },
      "execution_count": null,
      "outputs": [
        {
          "output_type": "stream",
          "name": "stdout",
          "text": [
            "Printing current and previous number and their sum in a range(10)\n",
            "current no  1 prevous no  0 sum  of 1\n",
            "current no  2 prevous no  1 sum  of 3\n",
            "current no  3 prevous no  2 sum  of 5\n",
            "current no  4 prevous no  3 sum  of 7\n",
            "current no  5 prevous no  4 sum  of 9\n",
            "current no  6 prevous no  5 sum  of 11\n",
            "current no  7 prevous no  6 sum  of 13\n",
            "current no  8 prevous no  7 sum  of 15\n",
            "current no  9 prevous no  8 sum  of 17\n"
          ]
        }
      ]
    },
    {
      "cell_type": "code",
      "source": [
        "a= 'pynative'\n",
        "for i in a[1::2]:\n",
        "  print(i)\n"
      ],
      "metadata": {
        "colab": {
          "base_uri": "https://localhost:8080/"
        },
        "id": "i7D82qvC211C",
        "outputId": "e7b746e9-eb84-4256-d0ea-b58d20edc2c7"
      },
      "execution_count": null,
      "outputs": [
        {
          "output_type": "stream",
          "name": "stdout",
          "text": [
            "y\n",
            "a\n",
            "i\n",
            "e\n"
          ]
        }
      ]
    },
    {
      "cell_type": "code",
      "source": [
        "a=[1,2,3,4,5]\n",
        "n=a[0::4]\n",
        "n"
      ],
      "metadata": {
        "colab": {
          "base_uri": "https://localhost:8080/"
        },
        "id": "oZhPLFQU4my9",
        "outputId": "b2b88e70-0d00-4510-9d7d-65664b7b3228"
      },
      "execution_count": null,
      "outputs": [
        {
          "output_type": "execute_result",
          "data": {
            "text/plain": [
              "[1, 5]"
            ]
          },
          "metadata": {},
          "execution_count": 28
        }
      ]
    },
    {
      "cell_type": "code",
      "source": [
        "k=[2,3,4,5,6,8]\n",
        "p=int(str(k[0])+str(k[5]))\n",
        "p"
      ],
      "metadata": {
        "colab": {
          "base_uri": "https://localhost:8080/"
        },
        "id": "V2aPF9fm44ou",
        "outputId": "5dc25302-6a83-43a3-9383-77e4087496d8"
      },
      "execution_count": null,
      "outputs": [
        {
          "output_type": "execute_result",
          "data": {
            "text/plain": [
              "28"
            ]
          },
          "metadata": {},
          "execution_count": 33
        }
      ]
    },
    {
      "cell_type": "code",
      "source": [
        "def remove_chars(word, n):\n",
        "    print('Original string:', word)\n",
        "    x = word[n:]\n",
        "    return x\n",
        "\n",
        "print(\"Removing characters from a string\")\n",
        "print(remove_chars(\"pynative\", 4))\n",
        "print(remove_chars(\"pynative\", 2))\n"
      ],
      "metadata": {
        "id": "YInR8nDO5gfc",
        "colab": {
          "base_uri": "https://localhost:8080/"
        },
        "outputId": "b2b423b8-fe3b-4ec4-e80f-80405082941a"
      },
      "execution_count": null,
      "outputs": [
        {
          "output_type": "stream",
          "name": "stdout",
          "text": [
            "Removing characters from a string\n",
            "Original string: pynative\n",
            "tive\n",
            "Original string: pynative\n",
            "native\n"
          ]
        }
      ]
    },
    {
      "cell_type": "code",
      "source": [
        "numbers_x = [10, 20, 30, 40, 10]\n",
        "t=numbers_x[0]==numbers_x[-1]\n",
        "t"
      ],
      "metadata": {
        "colab": {
          "base_uri": "https://localhost:8080/"
        },
        "id": "MOdbquR98mFP",
        "outputId": "2715e2c3-08f3-46ac-e675-8ac8d9d8156a"
      },
      "execution_count": null,
      "outputs": [
        {
          "output_type": "execute_result",
          "data": {
            "text/plain": [
              "True"
            ]
          },
          "metadata": {},
          "execution_count": 33
        }
      ]
    },
    {
      "cell_type": "code",
      "source": [
        "sum= lambda a,b,c:a+b+c\n",
        "print(sum(4,6,8))"
      ],
      "metadata": {
        "colab": {
          "base_uri": "https://localhost:8080/"
        },
        "id": "zY43Chbeo9WF",
        "outputId": "747506cd-a7d4-483b-d7dc-32eef1ed4c3f"
      },
      "execution_count": null,
      "outputs": [
        {
          "output_type": "stream",
          "name": "stdout",
          "text": [
            "18\n"
          ]
        }
      ]
    },
    {
      "cell_type": "code",
      "source": [
        "h=3\n",
        "def mul():\n",
        "  p=4*h\n",
        "print(\"local p\",p)\n",
        "mul()\n",
        "print('global',h)\n"
      ],
      "metadata": {
        "colab": {
          "base_uri": "https://localhost:8080/"
        },
        "id": "73drZLDvqV5D",
        "outputId": "58341bac-86aa-43c0-edeb-d7dc0a58e88b"
      },
      "execution_count": null,
      "outputs": [
        {
          "output_type": "stream",
          "name": "stdout",
          "text": [
            "local p 3\n",
            "global 3\n"
          ]
        }
      ]
    },
    {
      "cell_type": "code",
      "source": [
        "str1='COMPUTER'\n",
        "index=0\n",
        "for  i in str1:\n",
        "  print(str1[:index+1])\n",
        "  index +=1"
      ],
      "metadata": {
        "colab": {
          "base_uri": "https://localhost:8080/"
        },
        "id": "5sBONR6RtObu",
        "outputId": "5887081c-974e-4578-bdfd-5290d5f0db3b"
      },
      "execution_count": null,
      "outputs": [
        {
          "output_type": "stream",
          "name": "stdout",
          "text": [
            "C\n",
            "CO\n",
            "COM\n",
            "COMP\n",
            "COMPU\n",
            "COMPUT\n",
            "COMPUTE\n",
            "COMPUTER\n"
          ]
        }
      ]
    },
    {
      "cell_type": "code",
      "source": [
        "str2=input(\"Enter the word: \")\n",
        "str3=' '\n",
        "index=-1\n",
        "for i in str2:\n",
        "  str3 += str2[index]\n",
        "  index -= 1\n",
        "print(\"the given string ={} \\nthe reversed string={}\".format(str2,str3))\n",
        "if (str2==str3):\n",
        "  print(\"Hence, the given string is palindrome\")\n",
        "else:\n",
        "  print(\"not polindrome\")"
      ],
      "metadata": {
        "colab": {
          "base_uri": "https://localhost:8080/"
        },
        "id": "6NUDWL9c8gVH",
        "outputId": "3ea8de23-cd8d-4557-f6eb-1112cc27d250"
      },
      "execution_count": null,
      "outputs": [
        {
          "output_type": "stream",
          "name": "stdout",
          "text": [
            "Enter the word: malayalam\n",
            "the given string =malayalam \n",
            "the reversed string= malayalam\n",
            "not polindrome\n"
          ]
        }
      ]
    },
    {
      "cell_type": "code",
      "source": [
        "patt='*'\n",
        "i=1\n",
        "while i<=5:\n",
        "  print(patt*i)\n",
        "  i+=1"
      ],
      "metadata": {
        "colab": {
          "base_uri": "https://localhost:8080/"
        },
        "id": "JiefrF0H83Hx",
        "outputId": "207b5218-1e17-492d-e324-b3932e9d72e9"
      },
      "execution_count": null,
      "outputs": [
        {
          "output_type": "stream",
          "name": "stdout",
          "text": [
            "*\n",
            "**\n",
            "***\n",
            "****\n",
            "*****\n"
          ]
        }
      ]
    },
    {
      "cell_type": "code",
      "source": [
        "a=input(\"enter a string: \")\n",
        "v='AaEeIiOoUu'\n",
        "w,c=0,0\n",
        "for i in a:\n",
        "  if i in v:\n",
        "    w+=1\n",
        "  else:\n",
        "    c+=1\n",
        "print(\"the given string contains {} vowels and {} consonants\".format(w,c))\n",
        "\n"
      ],
      "metadata": {
        "colab": {
          "base_uri": "https://localhost:8080/"
        },
        "id": "_50078KF-EbV",
        "outputId": "02c82a92-0d8f-454c-afa7-40d9d87e147b"
      },
      "execution_count": null,
      "outputs": [
        {
          "output_type": "stream",
          "name": "stdout",
          "text": [
            "enter a string: premlattha priya\n",
            "the given string contains 5 vowels and 11 consonants\n"
          ]
        }
      ]
    },
    {
      "cell_type": "code",
      "source": [
        "#TO create an abecedarian series(' Abecedarian refers list of elements appear in alphabetical order')\n",
        "x= \"ABCDEFGH\"\n",
        "z=\"ate\"\n",
        "for i in x:\n",
        "  print((i+z), end='\\t')"
      ],
      "metadata": {
        "colab": {
          "base_uri": "https://localhost:8080/"
        },
        "id": "gNnjQg0d-bU9",
        "outputId": "0c6df7af-c791-43d6-fa92-bff82271d9c2"
      },
      "execution_count": null,
      "outputs": [
        {
          "output_type": "stream",
          "name": "stdout",
          "text": [
            "Aate\tBate\tCate\tDate\tEate\tFate\tGate\tHate\t"
          ]
        }
      ]
    },
    {
      "cell_type": "code",
      "source": [
        "def remove_vowels(s):\n",
        "  temp_str=''\n",
        "  for i in s:\n",
        "    if i in 'AaEeIiOoUu':\n",
        "      pass\n",
        "    else:\n",
        "      temp_str+=i\n",
        "  print(\"Without vowels: \",temp_str)\n",
        "g=input(\"Enter a string: \")\n",
        "remove_vowels(g)"
      ],
      "metadata": {
        "colab": {
          "base_uri": "https://localhost:8080/"
        },
        "id": "6pUBSmP_APBk",
        "outputId": "303046a0-ad65-40bd-db89-de7d232b0393"
      },
      "execution_count": null,
      "outputs": [
        {
          "output_type": "stream",
          "name": "stdout",
          "text": [
            "Enter a string: Mathematics\n",
            "Without vowels:  Mthmtcs\n"
          ]
        }
      ]
    },
    {
      "cell_type": "code",
      "source": [
        "#reversed\n",
        "b='Tamlnadu'\n",
        "print(b[::-1])"
      ],
      "metadata": {
        "colab": {
          "base_uri": "https://localhost:8080/"
        },
        "id": "Ru_L-YgKAxbW",
        "outputId": "8af0ec0d-6c28-424c-ca21-c5976c5bb4ce"
      },
      "execution_count": null,
      "outputs": [
        {
          "output_type": "stream",
          "name": "stdout",
          "text": [
            "udanlmaT\n"
          ]
        }
      ]
    },
    {
      "cell_type": "code",
      "source": [
        "str4='priya is good developer and good team player'\n",
        "print(str4.count('good'))"
      ],
      "metadata": {
        "colab": {
          "base_uri": "https://localhost:8080/"
        },
        "id": "7eQYsZL8-Fzi",
        "outputId": "7108df1b-7d80-4aff-bdcb-2cc2e9066b82"
      },
      "execution_count": null,
      "outputs": [
        {
          "output_type": "stream",
          "name": "stdout",
          "text": [
            "2\n"
          ]
        }
      ]
    },
    {
      "cell_type": "code",
      "source": [
        "#pip install numpy\n",
        "from sympy import isprime\n",
        "\n",
        "# Example usage of the isprime() function\n",
        "\n",
        "# Define the number to be checked\n",
        "number = 29\n",
        "\n",
        "# Use the isprime() function from sympy to check if the number is prime\n",
        "# The function returns True if the number is prime, and False otherwise\n",
        "if isprime(number):\n",
        "    print(f\"{number} is a prime number\")\n",
        "else:\n",
        "    print(f\"{number} is not a prime number\")"
      ],
      "metadata": {
        "colab": {
          "base_uri": "https://localhost:8080/"
        },
        "id": "gqybhJNYZU0T",
        "outputId": "16392dc2-7c22-4e5b-8a93-91284ba37df7"
      },
      "execution_count": null,
      "outputs": [
        {
          "output_type": "stream",
          "name": "stdout",
          "text": [
            "29 is a prime number\n"
          ]
        }
      ]
    },
    {
      "cell_type": "code",
      "source": [
        "def is_prime(num):\n",
        "  if num<=1:\n",
        "    return False\n",
        "  i=2\n",
        "  while i*i<=num:\n",
        "    if num %i==0:\n",
        "        print(\"not prime number...\")\n",
        "    i+=1\n",
        "  return True\n",
        "number=23\n",
        "if is_prime(number):\n",
        "  print(f\"{number} is prime number\")\n",
        "else:\n",
        "  print(f\"{number} is not prime number\")\n"
      ],
      "metadata": {
        "colab": {
          "base_uri": "https://localhost:8080/"
        },
        "id": "ECD2a-zWZjVW",
        "outputId": "5cfadb3c-9736-41c2-bbd3-fc42b31d9d67"
      },
      "execution_count": null,
      "outputs": [
        {
          "output_type": "stream",
          "name": "stdout",
          "text": [
            "23 is prime number\n"
          ]
        }
      ]
    },
    {
      "cell_type": "code",
      "source": [
        "def is_prime_using_while(num):\n",
        "    # Prime numbers are greater than 1\n",
        "    if num <= 1:\n",
        "        return False\n",
        "\n",
        "    # Start checking from 2, since 1 is not a valid divisor for prime checking\n",
        "    i = 2\n",
        "\n",
        "    # Loop until i is less than or equal to the square root of num\n",
        "    # This is because a larger factor must be a multiple of a smaller factor\n",
        "    while i * i <= num:\n",
        "        # If num is divisible by i, it is not a prime number\n",
        "        if num % i == 0:\n",
        "            return False\n",
        "        i += 1  # Increment i by 1 for the next iteration\n",
        "\n",
        "    # If no divisors are found, num is a prime number\n",
        "    return True\n",
        "\n",
        "# Example usage\n",
        "number = 23\n",
        "if is_prime_using_while(number):\n",
        "    print(f\"{number} is a prime number\")\n",
        "else:\n",
        "    print(f\"{number} is not a prime number\")"
      ],
      "metadata": {
        "colab": {
          "base_uri": "https://localhost:8080/"
        },
        "id": "lPrXj7jjdz_f",
        "outputId": "24944010-6bfc-4cb8-eaa1-0c232974963f"
      },
      "execution_count": null,
      "outputs": [
        {
          "output_type": "stream",
          "name": "stdout",
          "text": [
            "23 is a prime number\n"
          ]
        }
      ]
    },
    {
      "cell_type": "code",
      "source": [
        "A = [3,6,7,5,7,9]\n",
        "B = str(A[0])+str(A[5])\n",
        "print(B)"
      ],
      "metadata": {
        "colab": {
          "base_uri": "https://localhost:8080/"
        },
        "id": "-K09k_Ic8hD-",
        "outputId": "0009b7d8-0503-49b7-9de1-9cbc2c7e9411"
      },
      "execution_count": null,
      "outputs": [
        {
          "output_type": "stream",
          "name": "stdout",
          "text": [
            "39\n"
          ]
        }
      ]
    },
    {
      "cell_type": "code",
      "source": [
        "def is_palindrome(string):\n",
        "  reversed_string = string[::-1]\n",
        "  return string == reversed_string\n",
        "string = \"malayalam\"\n",
        "if is_palindrome(string):\n",
        "  print(f'{string} is a palindrome')\n",
        "else:\n",
        "  print(f'{string} is not a palindrome')"
      ],
      "metadata": {
        "colab": {
          "base_uri": "https://localhost:8080/"
        },
        "id": "a1M8drgV872R",
        "outputId": "47d06bc0-ab28-4b39-fbd7-63393b8d7faf"
      },
      "execution_count": null,
      "outputs": [
        {
          "output_type": "stream",
          "name": "stdout",
          "text": [
            "malayalam is a palindrome\n"
          ]
        }
      ]
    },
    {
      "cell_type": "code",
      "source": [
        "def factorial(n):\n",
        "  if n==0:\n",
        "    return 1\n",
        "  else:\n",
        "    return n*factorial(n-1)\n",
        "num=4\n",
        "result=factorial(num)\n",
        "print(f'the factorial of {num} is {result}')"
      ],
      "metadata": {
        "colab": {
          "base_uri": "https://localhost:8080/"
        },
        "id": "MJtMFpBU-NRL",
        "outputId": "581056a2-ae16-41e9-d450-5a4ac357f34a"
      },
      "execution_count": null,
      "outputs": [
        {
          "output_type": "stream",
          "name": "stdout",
          "text": [
            "the factorial of 4 is 24\n"
          ]
        }
      ]
    },
    {
      "cell_type": "code",
      "source": [
        "d=[2,4,5,67,8]\n",
        "maxim= max(d)\n",
        "maxim"
      ],
      "metadata": {
        "colab": {
          "base_uri": "https://localhost:8080/"
        },
        "id": "VgM-UGIxEUVG",
        "outputId": "52eada88-2211-417b-bf3e-4870dc309cfd"
      },
      "execution_count": null,
      "outputs": [
        {
          "output_type": "execute_result",
          "data": {
            "text/plain": [
              "67"
            ]
          },
          "metadata": {},
          "execution_count": 30
        }
      ]
    },
    {
      "cell_type": "code",
      "source": [
        "def find_common_elements(list1,list2):\n",
        "  common_elements=[]\n",
        "  for item in list1:\n",
        "    if item in list2:\n",
        "      common_elements.append(item)\n",
        "  return common_elements\n",
        "list1=[1,2,3,4,5]\n",
        "list2=[4,5,6,7,8]\n",
        "common=find_common_elements(list1,list2)\n",
        "print(common)"
      ],
      "metadata": {
        "colab": {
          "base_uri": "https://localhost:8080/"
        },
        "id": "-NhksIz1Fje0",
        "outputId": "35431eca-7c61-4f65-e0c6-3e4d93ef0fac"
      },
      "execution_count": null,
      "outputs": [
        {
          "output_type": "stream",
          "name": "stdout",
          "text": [
            "[4, 5]\n"
          ]
        }
      ]
    },
    {
      "cell_type": "code",
      "source": [
        "list1=[1,2,3,4,5]\n",
        "list2=[4,5,6,7,8]\n",
        "s=list(set(list1).intersection(list2))\n",
        "s"
      ],
      "metadata": {
        "colab": {
          "base_uri": "https://localhost:8080/"
        },
        "id": "ii_uJEaIIIz9",
        "outputId": "0bc1003a-956f-4c3c-d4f8-3a9ce06c0b26"
      },
      "execution_count": null,
      "outputs": [
        {
          "output_type": "execute_result",
          "data": {
            "text/plain": [
              "[4, 5]"
            ]
          },
          "metadata": {},
          "execution_count": 33
        }
      ]
    },
    {
      "cell_type": "code",
      "source": [
        "def remove_duplicates(numbers):\n",
        "\n",
        "  unique_numbers=[]\n",
        "  for num in numbers:\n",
        "    if num not in unique_numbers:\n",
        "      unique_numbers.append(num)\n",
        "  return unique_numbers\n",
        "numbers=[1,2,3,1,2,35,7,96,43,2,7]\n",
        "unique_numbers=remove_duplicates(numbers)\n",
        "print(unique_numbers)"
      ],
      "metadata": {
        "colab": {
          "base_uri": "https://localhost:8080/"
        },
        "id": "qSNKk0PZIrIZ",
        "outputId": "dda5ece3-7d33-4a70-d58c-13e5ac253d33"
      },
      "execution_count": null,
      "outputs": [
        {
          "output_type": "stream",
          "name": "stdout",
          "text": [
            "[1, 2, 3, 35, 7, 96, 43]\n"
          ]
        }
      ]
    },
    {
      "cell_type": "code",
      "source": [
        "#pattern pgm\n",
        "#1 ncreasing triangle pattern\n",
        "n=int(input('enter number: '))\n",
        "for i in range(n):\n",
        "  for j in range(i+1):\n",
        "    print('*',end='')\n",
        "  print()"
      ],
      "metadata": {
        "id": "2nldf4gdKdw3",
        "colab": {
          "base_uri": "https://localhost:8080/"
        },
        "outputId": "57cb015b-34d0-4898-a823-dcc66d09beeb"
      },
      "execution_count": null,
      "outputs": [
        {
          "output_type": "stream",
          "name": "stdout",
          "text": [
            "enter number: 5\n",
            "*\n",
            "**\n",
            "***\n",
            "****\n",
            "*****\n"
          ]
        }
      ]
    },
    {
      "cell_type": "code",
      "source": [
        "#decreasing trinagle\n",
        "n=4\n",
        "for i in range(n):\n",
        "  #print('*',end='')\n",
        "  for j in range(i,n):\n",
        "    print('*',end='')\n",
        "\n",
        "   # print(\"*\",end='')\n",
        "  print()"
      ],
      "metadata": {
        "colab": {
          "base_uri": "https://localhost:8080/"
        },
        "id": "hQVhyQqqU_I2",
        "outputId": "6bbc39c0-1fa6-4648-83a9-537ce3c1df51"
      },
      "execution_count": null,
      "outputs": [
        {
          "output_type": "stream",
          "name": "stdout",
          "text": [
            "****\n",
            "***\n",
            "**\n",
            "*\n"
          ]
        }
      ]
    },
    {
      "cell_type": "code",
      "source": [
        "n=5\n",
        "for i in range(n):\n",
        "  for j in range(n-i-1):\n",
        "    print(' ',end='')\n",
        "  for j in range(i+1):\n",
        "    print(\"*\",end='')\n",
        "  print()"
      ],
      "metadata": {
        "colab": {
          "base_uri": "https://localhost:8080/"
        },
        "id": "x_a0IxGyESyQ",
        "outputId": "0d382697-22a0-4163-8e3c-374379ce12e7"
      },
      "execution_count": null,
      "outputs": [
        {
          "output_type": "stream",
          "name": "stdout",
          "text": [
            "    *\n",
            "   **\n",
            "  ***\n",
            " ****\n",
            "*****\n"
          ]
        }
      ]
    },
    {
      "cell_type": "code",
      "source": [
        "num = int(input(\"Enter Number:\"))\n",
        "\n",
        "for i in range(0, num):\n",
        "    for j in range(0, i+1):\n",
        "        print(\"*\", end=\" \")\n",
        "    print()"
      ],
      "metadata": {
        "colab": {
          "base_uri": "https://localhost:8080/"
        },
        "id": "sP56OsagEde7",
        "outputId": "96bae3e7-a202-4833-b91b-17bdf42cc1c5"
      },
      "execution_count": null,
      "outputs": [
        {
          "output_type": "stream",
          "name": "stdout",
          "text": [
            "Enter Number:5\n",
            "* \n",
            "* * \n",
            "* * * \n",
            "* * * * \n",
            "* * * * * \n"
          ]
        }
      ]
    },
    {
      "cell_type": "code",
      "source": [
        "n=5\n",
        "for i in range(n):\n",
        "  for j in range(i+1):\n",
        "    print(' ',end='')\n",
        "  for j in range(i,n):\n",
        "    print('*',end='')\n",
        "  print()"
      ],
      "metadata": {
        "colab": {
          "base_uri": "https://localhost:8080/"
        },
        "id": "sBp4geNwHvCl",
        "outputId": "c895a017-186f-4735-d13e-61111c794965"
      },
      "execution_count": null,
      "outputs": [
        {
          "output_type": "stream",
          "name": "stdout",
          "text": [
            " *****\n",
            "  ****\n",
            "   ***\n",
            "    **\n",
            "     *\n"
          ]
        }
      ]
    },
    {
      "cell_type": "code",
      "source": [
        "yy=12345\n",
        "ff=int(str(yy)[::-1])\n",
        "ff"
      ],
      "metadata": {
        "colab": {
          "base_uri": "https://localhost:8080/"
        },
        "id": "jMicw_9LTf7J",
        "outputId": "19e4d68c-0891-4ab9-8509-40dde1273722"
      },
      "execution_count": null,
      "outputs": [
        {
          "output_type": "execute_result",
          "data": {
            "text/plain": [
              "54321"
            ]
          },
          "metadata": {},
          "execution_count": 26
        }
      ]
    },
    {
      "cell_type": "code",
      "source": [
        "a = int(input(\"please give first number a: \"))\n",
        "b = int(input(\"please give second number b: \"))\n",
        "a=a-b\n",
        "b=a+b\n",
        "a=b-a\n",
        "print(\"After swapping\")\n",
        "print(\"value of a is : \", a);\n",
        "print(\"value of b is : \", b);"
      ],
      "metadata": {
        "colab": {
          "base_uri": "https://localhost:8080/"
        },
        "id": "JxJ_XQqnV8xV",
        "outputId": "aa512887-f7ee-40cc-f283-9f1f4c84a2c0"
      },
      "execution_count": null,
      "outputs": [
        {
          "output_type": "stream",
          "name": "stdout",
          "text": [
            "please give first number a: 3\n",
            "please give second number b: 5\n",
            "After swapping\n",
            "value of a is :  5\n",
            "value of b is :  3\n"
          ]
        }
      ]
    },
    {
      "cell_type": "code",
      "source": [
        "s='python code'\n",
        "print(s.upper())"
      ],
      "metadata": {
        "colab": {
          "base_uri": "https://localhost:8080/"
        },
        "id": "_XWC_y2ee1vA",
        "outputId": "e2d64f73-ba72-4bb6-acd4-3f63e173d41a"
      },
      "execution_count": null,
      "outputs": [
        {
          "output_type": "stream",
          "name": "stdout",
          "text": [
            "PYTHON CODE\n"
          ]
        }
      ]
    },
    {
      "cell_type": "code",
      "source": [
        "def is_armstrong_number(number):\n",
        "\treturn sum(int(digit)**len(str(number)) for digit in str(number)) == number\n",
        "\n",
        "\n",
        "# Example usage:\n",
        "num = 153\n",
        "if is_armstrong_number(num):\n",
        "\tprint(f\"{num} is an Armstrong number\")\n",
        "else:\n",
        "\tprint(f\"{num} is not an Armstrong number\")\n"
      ],
      "metadata": {
        "id": "sBKwfOjmiZSQ",
        "colab": {
          "base_uri": "https://localhost:8080/"
        },
        "outputId": "56f20b5f-869d-4d3c-f4f4-28cbace34e72"
      },
      "execution_count": 2,
      "outputs": [
        {
          "output_type": "stream",
          "name": "stdout",
          "text": [
            "153 is an Armstrong number\n"
          ]
        }
      ]
    },
    {
      "cell_type": "code",
      "source": [
        "def is_armstrong(numm):\n",
        "  return sum(int(digit)**len(str(numm)) for digit in str(num))==numm\n",
        "num=int(input(\"enter no: \"))\n",
        "if is_armstrong(num):\n",
        "  print(f'{num} is an armstrong number')\n",
        "else:\n",
        "  print(f'{num} not armstrong')"
      ],
      "metadata": {
        "colab": {
          "base_uri": "https://localhost:8080/"
        },
        "id": "Sg0IOhGriaqX",
        "outputId": "f6116885-89bb-4b67-f419-9e288378bba5"
      },
      "execution_count": null,
      "outputs": [
        {
          "output_type": "stream",
          "name": "stdout",
          "text": [
            "enter no: 153\n",
            "153 is an armstrong number\n"
          ]
        }
      ]
    },
    {
      "cell_type": "code",
      "source": [
        "def factorial(n):\n",
        "  if n==0:\n",
        "    return 1\n",
        "  else:\n",
        "    return n*factorial(n-1)\n",
        "num=4\n",
        "result=factorial(num)\n",
        "print(f'the factorial of {num} is {result}')"
      ],
      "metadata": {
        "id": "r7FVMNpuifqH",
        "colab": {
          "base_uri": "https://localhost:8080/"
        },
        "outputId": "54811af7-1a3a-4aac-9ce4-23b72f5550a3"
      },
      "execution_count": 1,
      "outputs": [
        {
          "output_type": "stream",
          "name": "stdout",
          "text": [
            "the factorial of 4 is 24\n"
          ]
        }
      ]
    },
    {
      "cell_type": "code",
      "source": [],
      "metadata": {
        "id": "12GQWfYaUz1x"
      },
      "execution_count": null,
      "outputs": []
    }
  ]
}