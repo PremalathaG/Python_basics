{
  "cells": [
    {
      "cell_type": "code",
      "execution_count": null,
      "id": "dba6c375",
      "metadata": {
        "id": "dba6c375",
        "outputId": "3c18e67e-3d37-497a-cc1b-6b6c5cbe30b3"
      },
      "outputs": [
        {
          "name": "stdout",
          "output_type": "stream",
          "text": [
            "1 2 3 \n",
            "4 5 6\n",
            "7 8 9\n",
            "[[11 13 15]]\n",
            "[[-3 -3 -3]]\n",
            "[[28 40 54]]\n",
            "[[0 0 0]]\n",
            "[[4 5 6]]\n",
            "[[   16384   390625 10077696]]\n"
          ]
        }
      ],
      "source": [
        "import numpy\n",
        "def arrays(arr, arr1, arr2):\n",
        "    arr = numpy.array(arr, dtype = int)\n",
        "    arr1 = numpy.array([arr1], dtype = int)\n",
        "    arr2 = numpy.array([arr2], dtype = int)\n",
        "\n",
        "    add = numpy.add(arr1,arr2)\n",
        "    sub = numpy.subtract(arr1, arr2)\n",
        "    mul = numpy.multiply(arr1, arr2)\n",
        "    div = numpy.floor_divide(arr1, arr2)\n",
        "    mod = numpy.mod(arr1, arr2)\n",
        "    power = numpy.power(arr1, arr2)\n",
        "    return add,sub,mul,div,mod,power\n",
        "\n",
        "arr = input().strip().split(' ')\n",
        "\n",
        "arr1 = input().strip().split(' ')\n",
        "arr2 = input().strip().split(' ')\n",
        "add,sub,mul,div,mod,power = arrays(arr, arr1, arr2)\n",
        "print(add)\n",
        "print(sub)\n",
        "print(mul)\n",
        "print(div)''\n",
        "print(mod)\n",
        "print(power)"
      ]
    },
    {
      "cell_type": "code",
      "execution_count": null,
      "id": "1ca144d1",
      "metadata": {
        "id": "1ca144d1",
        "outputId": "53529a31-7935-41f5-cf08-3c4b1cd16327"
      },
      "outputs": [
        {
          "name": "stdout",
          "output_type": "stream",
          "text": [
            "1 2\n",
            "3 4\n",
            "3\n"
          ]
        }
      ],
      "source": [
        "\n",
        "import numpy\n",
        "N, M = map(int, input().split())\n",
        "\n",
        "A = numpy.array([input().split() for i in range(N)],dtype = int)\n",
        "print(numpy.max(numpy.min(A, axis=1), axis=0))"
      ]
    },
    {
      "cell_type": "code",
      "execution_count": null,
      "id": "5eb6c89f",
      "metadata": {
        "id": "5eb6c89f",
        "outputId": "6398fcf8-e5e6-49cd-9622-f843280abe9f"
      },
      "outputs": [
        {
          "name": "stdout",
          "output_type": "stream",
          "text": [
            "fedcba\n"
          ]
        }
      ],
      "source": [
        "aa='abcdef'\n",
        "print(aa[::-1])"
      ]
    },
    {
      "cell_type": "code",
      "execution_count": null,
      "id": "8b556edb",
      "metadata": {
        "id": "8b556edb",
        "outputId": "14ac74e8-b238-4adf-e94f-1fd90697341b"
      },
      "outputs": [
        {
          "name": "stdout",
          "output_type": "stream",
          "text": [
            "120\n"
          ]
        }
      ],
      "source": [
        "import math\n",
        "n=5\n",
        "a=math.factorial(n)\n",
        "print(a)"
      ]
    },
    {
      "cell_type": "code",
      "execution_count": null,
      "id": "df966959",
      "metadata": {
        "id": "df966959",
        "outputId": "ed945d7b-18aa-4e5f-b6cb-e336eebf029a"
      },
      "outputs": [
        {
          "name": "stdout",
          "output_type": "stream",
          "text": [
            "enter the number for to find the factorial: 5\n",
            "Factorial is:  120\n"
          ]
        }
      ],
      "source": [
        "def factorial(n):\n",
        "    return 1 if (n==0 or n==1) else n*factorial(n-1)\n",
        "num=int(input(\"enter the number for to find the factorial: \"))\n",
        "print('Factorial is: ',factorial(num))"
      ]
    },
    {
      "cell_type": "code",
      "execution_count": null,
      "id": "51a737c5",
      "metadata": {
        "id": "51a737c5",
        "outputId": "5ce16a13-ba03-4f90-bae9-f43460a39300"
      },
      "outputs": [
        {
          "name": "stdout",
          "output_type": "stream",
          "text": [
            "its prime\n"
          ]
        }
      ],
      "source": [
        "a=9\n",
        "if a%2:\n",
        "    print('its prime')\n",
        "else:\n",
        "    print('not prime')"
      ]
    },
    {
      "cell_type": "code",
      "execution_count": null,
      "id": "c247e14a",
      "metadata": {
        "id": "c247e14a"
      },
      "outputs": [],
      "source": []
    },
    {
      "cell_type": "code",
      "execution_count": null,
      "id": "37635111",
      "metadata": {
        "id": "37635111",
        "outputId": "01cd96c0-147a-4bad-d8b8-c97c8d13446e"
      },
      "outputs": [
        {
          "name": "stdout",
          "output_type": "stream",
          "text": [
            "8 is not prime number\n"
          ]
        }
      ],
      "source": [
        "num=8\n",
        "if num>1:\n",
        "    for i in range(2,int(num/2)+1):\n",
        "        if (num%i)==0:\n",
        "            print(num, 'is not prime number')\n",
        "            break\n",
        "    else:\n",
        "        print(num,'is a prime number')\n",
        "else:\n",
        "    print(num, 'is not prime number')"
      ]
    },
    {
      "cell_type": "code",
      "execution_count": null,
      "id": "f13a6b4b",
      "metadata": {
        "id": "f13a6b4b",
        "outputId": "6334347b-18a4-4182-ee5d-e442ab42124f"
      },
      "outputs": [
        {
          "data": {
            "text/plain": [
              "5"
            ]
          },
          "execution_count": 12,
          "metadata": {},
          "output_type": "execute_result"
        }
      ],
      "source": [
        "(int(11/2)+1)\n",
        "11%6\n"
      ]
    },
    {
      "cell_type": "code",
      "execution_count": null,
      "id": "7705531a",
      "metadata": {
        "id": "7705531a",
        "outputId": "73f065bb-88e8-4712-d2f5-93eb70d2a94f"
      },
      "outputs": [
        {
          "name": "stdout",
          "output_type": "stream",
          "text": [
            "computer\n",
            "compute\n",
            "comput\n",
            "compu\n",
            "comp\n",
            "com\n",
            "co\n",
            "c\n"
          ]
        }
      ],
      "source": [
        "a='computer'\n",
        "index=len(a)\n",
        "for i in a:\n",
        "    print(a[0:index])\n",
        "    index -=1"
      ]
    },
    {
      "cell_type": "code",
      "execution_count": null,
      "id": "869c9ccf",
      "metadata": {
        "colab": {
          "base_uri": "https://localhost:8080/"
        },
        "id": "869c9ccf",
        "outputId": "71c72b08-f361-43ff-de1a-f871917b275d"
      },
      "outputs": [
        {
          "output_type": "stream",
          "name": "stdout",
          "text": [
            "\n",
            "1\t\n",
            "1\t2\t\n",
            "1\t2\t3\t\n",
            "1\t2\t3\t4\t\n",
            "1\t2\t3\t4\t5\t\n"
          ]
        }
      ],
      "source": [
        "#nested loop\n",
        "i=1\n",
        "while(i<=6):\n",
        "    for j in range(1,i):\n",
        "        print(j,end='\\t')\n",
        "    print(end='\\n')\n",
        "    i+=1"
      ]
    },
    {
      "cell_type": "code",
      "execution_count": null,
      "id": "105c6909",
      "metadata": {
        "id": "105c6909",
        "outputId": "39e75bd3-67d8-4c7b-da78-b82bfca83da2"
      },
      "outputs": [
        {
          "name": "stdout",
          "output_type": "stream",
          "text": [
            "1\t2\t3\t4\t5\t6\t"
          ]
        }
      ],
      "source": [
        "i=1\n",
        "while(i<=6):\n",
        "    print(i,end='\\t')\n",
        "    i+=1"
      ]
    },
    {
      "cell_type": "code",
      "execution_count": null,
      "id": "c5fadd80",
      "metadata": {
        "colab": {
          "base_uri": "https://localhost:8080/"
        },
        "id": "c5fadd80",
        "outputId": "568bebf1-8fd0-43e3-d672-71b86440163a"
      },
      "outputs": [
        {
          "output_type": "stream",
          "name": "stdout",
          "text": [
            "1\t"
          ]
        }
      ],
      "source": [
        "for j in range(1,2):\n",
        "    print(j, end='\\t')\n"
      ]
    },
    {
      "cell_type": "code",
      "execution_count": null,
      "id": "e983c5e9",
      "metadata": {
        "id": "e983c5e9",
        "outputId": "f334b16a-6310-4a7d-f980-5a617ad62d26"
      },
      "outputs": [
        {
          "name": "stdout",
          "output_type": "stream",
          "text": [
            "1\t2\t3\t4\t5\t"
          ]
        }
      ],
      "source": [
        "for i in range(1,6):\n",
        "    print(i,end='\\t')"
      ]
    },
    {
      "cell_type": "code",
      "execution_count": null,
      "id": "2fdee033",
      "metadata": {
        "id": "2fdee033"
      },
      "outputs": [],
      "source": []
    },
    {
      "cell_type": "code",
      "execution_count": null,
      "id": "58509211",
      "metadata": {
        "id": "58509211",
        "outputId": "03d3d694-f23b-4fd0-a6e8-930c4d6163d5"
      },
      "outputs": [
        {
          "name": "stdout",
          "output_type": "stream",
          "text": [
            "hello python\n",
            "None\n"
          ]
        }
      ],
      "source": [
        "def hello():\n",
        "    print('hello python')\n",
        "\n",
        "print(hello())"
      ]
    },
    {
      "cell_type": "code",
      "execution_count": null,
      "id": "e4ec151b",
      "metadata": {
        "id": "e4ec151b",
        "outputId": "941ddf51-b464-4552-9d6d-6c63620e5e17"
      },
      "outputs": [
        {
          "name": "stdout",
          "output_type": "stream",
          "text": [
            "26\n",
            "27\n"
          ]
        }
      ],
      "source": [
        "import math\n",
        "print(math.floor(26.7))\n",
        "print(math.ceil(26.3))"
      ]
    },
    {
      "cell_type": "code",
      "execution_count": null,
      "id": "5a7223b0",
      "metadata": {
        "id": "5a7223b0",
        "outputId": "6c86cadc-53ee-426f-fe94-596fb302730f"
      },
      "outputs": [
        {
          "name": "stdout",
          "output_type": "stream",
          "text": [
            "13.0\n",
            "3.2\n"
          ]
        }
      ],
      "source": [
        "print(abs(-25+12.0))\n",
        "print(abs(-3.2))"
      ]
    },
    {
      "cell_type": "code",
      "execution_count": null,
      "id": "c19a3000",
      "metadata": {
        "id": "c19a3000",
        "outputId": "2ada10d3-1d12-4878-83a4-664f1208bbec"
      },
      "outputs": [
        {
          "name": "stdout",
          "output_type": "stream",
          "text": [
            "36\n",
            "$\n",
            "\r\n"
          ]
        }
      ],
      "source": [
        "print(ord('$'))#to give the unicode character inverse of chr()\n",
        "print(chr(36))# to give ascii value from unicode inverse of ord()\n"
      ]
    },
    {
      "cell_type": "code",
      "execution_count": null,
      "id": "39193171",
      "metadata": {
        "id": "39193171",
        "outputId": "787e4bd1-ca70-4771-dafb-998fa2ed749f"
      },
      "outputs": [
        {
          "name": "stdout",
          "output_type": "stream",
          "text": [
            "0.51\n"
          ]
        }
      ],
      "source": [
        "round(18.2,3)\n",
        "print(round(0.5100,3))"
      ]
    },
    {
      "cell_type": "code",
      "execution_count": null,
      "id": "e61ca660",
      "metadata": {
        "id": "e61ca660",
        "outputId": "66f78257-4725-444d-bdf9-32894572451d"
      },
      "outputs": [
        {
          "name": "stdout",
          "output_type": "stream",
          "text": [
            "21\n",
            "6\n"
          ]
        }
      ],
      "source": [
        "print(format(33,'x'))\n",
        "print(format(0b110,'d'))"
      ]
    },
    {
      "cell_type": "code",
      "execution_count": null,
      "id": "768c077b",
      "metadata": {
        "id": "768c077b",
        "outputId": "45331c5b-5705-4580-da51-76380c80bc6c"
      },
      "outputs": [
        {
          "name": "stdout",
          "output_type": "stream",
          "text": [
            "enter a string: priya\n",
            "a\n",
            "y\n",
            "i\n",
            "r\n",
            "p\n"
          ]
        }
      ],
      "source": [
        "str1=input('enter a string: ')\n",
        "index=-1\n",
        "while index>=-(len(str1)):\n",
        "    print(str1[index])\n",
        "    index+=-1"
      ]
    },
    {
      "cell_type": "code",
      "execution_count": null,
      "id": "cffd116e",
      "metadata": {
        "id": "cffd116e",
        "outputId": "6ea7b4e1-76b1-4434-8fb2-61ab5be6cfbc"
      },
      "outputs": [
        {
          "name": "stdout",
          "output_type": "stream",
          "text": [
            "Enter a string: malayalam\n",
            "malayalam\n",
            "palindrome\n"
          ]
        }
      ],
      "source": [
        "#palindrome\n",
        "str1=input(\"Enter a string: \")\n",
        "str2=str1[::-1]\n",
        "print(str2)\n",
        "if str2==str1:\n",
        "    print('palindrome')\n",
        "else:\n",
        "    print(\"not polindrome\")"
      ]
    },
    {
      "cell_type": "code",
      "execution_count": null,
      "id": "022a68d4",
      "metadata": {
        "id": "022a68d4",
        "outputId": "2d04665c-cde2-4799-fa8d-70035f2c441d"
      },
      "outputs": [
        {
          "name": "stdout",
          "output_type": "stream",
          "text": [
            "*\n",
            "**\n",
            "***\n",
            "****\n",
            "*****\n"
          ]
        }
      ],
      "source": [
        "patt='*'\n",
        "i=1\n",
        "while i<=5:\n",
        "    print(patt *i)\n",
        "    i+=1"
      ]
    },
    {
      "cell_type": "code",
      "execution_count": null,
      "id": "751921b2",
      "metadata": {
        "id": "751921b2",
        "outputId": "fb0db64e-70d4-4407-846b-96b7275d5528"
      },
      "outputs": [
        {
          "name": "stdout",
          "output_type": "stream",
          "text": [
            "enter a string: python is interpreted language\n",
            "string contain 10 constraints and vowels 20\n"
          ]
        }
      ],
      "source": [
        "strr=input('enter a string: ')\n",
        "str2='aAeEiIoOuU'\n",
        "v,c=0,0\n",
        "for i in strr:\n",
        "    if i in str2:\n",
        "        v+=1\n",
        "    else:\n",
        "        c+=1\n",
        "print('string contain {} constraints and vowels {}'.format(v,c))\n"
      ]
    },
    {
      "cell_type": "code",
      "execution_count": null,
      "id": "dc589d35",
      "metadata": {
        "id": "dc589d35",
        "outputId": "19d27629-00f0-4718-a61d-238c968598c9"
      },
      "outputs": [
        {
          "name": "stdout",
          "output_type": "stream",
          "text": [
            "Aate\tBate\tCate\tDate\tEate\tFate\tGate\tHate\tIate\t"
          ]
        }
      ],
      "source": [
        "#abecedarian seriesa\n",
        "aa='ABCDEFGHI'\n",
        "bb='ate'\n",
        "for i in aa:\n",
        "    print(i+bb, end='\\t')"
      ]
    },
    {
      "cell_type": "code",
      "execution_count": null,
      "id": "50413b90",
      "metadata": {
        "id": "50413b90",
        "outputId": "e5e25181-4479-47fd-adac-00158140c4e9"
      },
      "outputs": [
        {
          "name": "stdout",
          "output_type": "stream",
          "text": [
            "enter a string: data science\n",
            "enter a charater to search: a\n",
            "The given charcter a is occures 2 times in the given string\n"
          ]
        }
      ],
      "source": [
        "def count(s,c):\n",
        "    c1=0\n",
        "    for i in s:\n",
        "\n",
        "        if i==c:\n",
        "            c1+=1\n",
        "    return c1\n",
        "str1=input('enter a string: ')\n",
        "chh=input('enter a charater to search: ')\n",
        "cnt=count(str1,chh)\n",
        "print(\"The given charcter {} is occures {} times in the given string\".format(chh,cnt))"
      ]
    },
    {
      "cell_type": "code",
      "execution_count": null,
      "id": "f72537f3",
      "metadata": {
        "id": "f72537f3",
        "outputId": "1b5c675c-8297-46ee-8561-6703eb6c3ef6"
      },
      "outputs": [
        {
          "name": "stdout",
          "output_type": "stream",
          "text": [
            "[0, 4, 8, 12, 16]\n"
          ]
        }
      ],
      "source": [
        "#pg 148\n",
        "#to print numbers divisible %4\n",
        "divby=[]\n",
        "for i in range(20):\n",
        "    if(i%4==0):\n",
        "        divby.append(i)\n",
        "print(divby)"
      ]
    },
    {
      "cell_type": "code",
      "execution_count": null,
      "id": "9b00096a",
      "metadata": {
        "id": "9b00096a",
        "outputId": "ecd46d68-a3ed-40cc-84dc-bd5e8c003793"
      },
      "outputs": [
        {
          "name": "stdout",
          "output_type": "stream",
          "text": [
            "Enter the name of country: jordan\n",
            "Jordan is not a member of BRICS\n"
          ]
        }
      ],
      "source": [
        "#check whether a country is member of BRICS or not\n",
        "country=['India','Russia','Srilanka','China','Brazil']\n",
        "is_member=input('Enter the name of country: ').capitalize()\n",
        "if is_member in country:\n",
        "    print(is_member,'is the member of BRICS')\n",
        "else:\n",
        "    print(is_member,'is not a member of BRICS')\n"
      ]
    },
    {
      "cell_type": "code",
      "execution_count": null,
      "id": "b37aff4c",
      "metadata": {
        "id": "b37aff4c",
        "outputId": "7e17ca86-98d5-4b22-aa97-2ed2aa2974f5"
      },
      "outputs": [
        {
          "name": "stdout",
          "output_type": "stream",
          "text": [
            "Enter mark= 67\n",
            "Enter mark= 73\n",
            "Enter mark= 84\n",
            "Enter mark= 85\n",
            "Enter mark= 55\n",
            "1.tamil mark =67\n",
            "2.eng mark =73\n",
            "3.mat mark =84\n",
            "4.sci mark =85\n",
            "5.s.sci mark =55\n",
            "total marks= 364\n"
          ]
        }
      ],
      "source": [
        "#print the marks and show the total marks\n",
        "marks=[]\n",
        "sub=['tamil','eng','mat','sci','s.sci']\n",
        "for i in range(5):\n",
        "    m=int(input('Enter mark= '))\n",
        "    marks.append(m)\n",
        "for j in range(len(marks)):\n",
        "    print(\"{}.{} mark ={}\".format(j+1,sub[j],marks[j]))\n",
        "    #print(f\"{i}. {sub[i]} mark = {marks[i]}\")\n",
        "print('total marks=',sum(marks))"
      ]
    },
    {
      "cell_type": "code",
      "execution_count": null,
      "id": "e1a29326",
      "metadata": {
        "id": "e1a29326",
        "outputId": "7f308bb4-36e0-413c-c98f-96feff02b378"
      },
      "outputs": [
        {
          "name": "stdout",
          "output_type": "stream",
          "text": [
            "enter price for item 1 :\n",
            "1\n",
            "enter price for item 2 :\n",
            "54\n",
            "enter price for item 3 :\n",
            "64\n",
            "enter price for item 4 :\n",
            "34\n",
            "enter price for item 5 :\n",
            "34\n",
            "price for item 1= Rs.1\n",
            "price for item 2= Rs.54\n",
            "price for item 3= Rs.64\n",
            "price for item 4= Rs.34\n",
            "price for item 5= Rs.34\n",
            "sum of all prices Rs: 187\n",
            "avg all price Rs: 37.4\n"
          ]
        }
      ],
      "source": [
        "#display sum of all prices and product of all the prices and find avg\n",
        "\n",
        "items=[]\n",
        "prod=1\n",
        "\n",
        "for i in range(5):\n",
        "    print('enter price for item {} :'.format(i+1))\n",
        "    p=int(input())\n",
        "    items.append(p)\n",
        "for j in range(len(items)):\n",
        "    print('price for item {}= Rs.{}'.format(j+1,items[j]))\n",
        "    prod=prod*items[i]\n",
        "print('sum of all prices Rs:',sum(items))\n",
        "#rint('product of all price Rs:',prod)\n",
        "print('avg all price Rs:',sum(items)/len(items))"
      ]
    },
    {
      "cell_type": "code",
      "execution_count": null,
      "id": "a5fdd402",
      "metadata": {
        "id": "a5fdd402",
        "outputId": "a44634c7-3fa2-488b-dc41-eccd9b973b4f"
      },
      "outputs": [
        {
          "name": "stdout",
          "output_type": "stream",
          "text": [
            "enter no.of terms: 6\n",
            "Fibnacci series upto 6 terms is:[0, 4, 4, 8, 12, 20]\n",
            "The sum of Fibonacci series:  48\n"
          ]
        }
      ],
      "source": [
        "#the fibonacci series and store it in a list.then find the sum of values\n",
        "#....................................\n",
        "a=-4\n",
        "b=4\n",
        "n=int(input('enter no.of terms: '))\n",
        "i=0\n",
        "sum=0\n",
        "fibo=[]\n",
        "while i<n:\n",
        "    s=a+b\n",
        "    fibo.append(s)\n",
        "    sum+=s\n",
        "    a=b\n",
        "    b=s\n",
        "    i+=1\n",
        "print('Fibnacci series upto '+ str(n) +' terms is:'+str(fibo))\n",
        "print('The sum of Fibonacci series: ',sum)"
      ]
    },
    {
      "cell_type": "code",
      "execution_count": null,
      "id": "758480bb",
      "metadata": {
        "id": "758480bb",
        "outputId": "a6bc8300-89ed-4917-f414-6c358e650dc4"
      },
      "outputs": [
        {
          "name": "stdout",
          "output_type": "stream",
          "text": [
            "positive numbers:  (5, 6, 8, 3, 1)\n"
          ]
        }
      ],
      "source": [
        "#a list of possitive and negative number. create a new tuple that has only positive numbers from the list\n",
        "\n",
        "\n",
        "numbers=(5,-8,6,8,-4,3,1)\n",
        "positive=()\n",
        "\n",
        "for i in numbers:\n",
        "    if i>0:\n",
        "        positive+=(i,)\n",
        "print('positive numbers: ',positive)"
      ]
    },
    {
      "cell_type": "code",
      "execution_count": null,
      "id": "ed86d5af",
      "metadata": {
        "id": "ed86d5af",
        "outputId": "15b6135a-ad94-4a3e-9119-b982cc82ecf8"
      },
      "outputs": [
        {
          "name": "stdout",
          "output_type": "stream",
          "text": [
            "2 is a prime number\n"
          ]
        }
      ],
      "source": [
        "#prime numbers\n",
        "num = 2\n",
        "# If given number is greater than 1\n",
        "if num > 1:\n",
        "\t# Iterate from 2 to n / 2\n",
        "\tfor i in range(2, int(num/2)+1):\n",
        "\t\t# If num is divisible by any number between\n",
        "\t\t# 2 and n / 2, it is not prime\n",
        "\t\tif (num % i) == 0:\n",
        "\t\t\tprint(num, \"is not a prime number\")\n",
        "\t\t\tbreak\n",
        "\telse:\n",
        "\t\tprint(num, \"is a prime number\")\n",
        "else:\n",
        "\tprint(num, \"is not a prime number\")\n"
      ]
    },
    {
      "cell_type": "code",
      "execution_count": null,
      "id": "e8c48d4e",
      "metadata": {
        "id": "e8c48d4e",
        "outputId": "3cb6b104-9225-464b-cf29-b141b596f655"
      },
      "outputs": [
        {
          "name": "stdout",
          "output_type": "stream",
          "text": [
            "3 is a prime number\n"
          ]
        }
      ],
      "source": [
        "num=3\n",
        "if num>1:\n",
        "    for i in range(2,int(num/2)+1):\n",
        "        if(num%i)==0:\n",
        "            print(num,\"is not prime number\")\n",
        "            break\n",
        "    else:\n",
        "        print(num,'is a prime number')\n",
        "else:\n",
        "    print(num,'is not prime number')"
      ]
    },
    {
      "cell_type": "code",
      "execution_count": null,
      "id": "21e8b097",
      "metadata": {
        "id": "21e8b097",
        "outputId": "dd60e47b-9ada-468f-c72b-216f224d6055"
      },
      "outputs": [
        {
          "data": {
            "text/plain": [
              "2"
            ]
          },
          "execution_count": 20,
          "metadata": {},
          "output_type": "execute_result"
        }
      ],
      "source": [
        "int(3/2)+1"
      ]
    },
    {
      "cell_type": "code",
      "execution_count": null,
      "id": "304dcc10",
      "metadata": {
        "id": "304dcc10",
        "outputId": "dc7b0ee2-c2a2-43b8-f923-90ebfdacbc88"
      },
      "outputs": [
        {
          "name": "stdout",
          "output_type": "stream",
          "text": [
            "p*r*i*y*a\n"
          ]
        }
      ],
      "source": [
        "name = \"priya\"\n",
        "output = \"*\".join(name)\n",
        "print(output)"
      ]
    },
    {
      "cell_type": "code",
      "execution_count": null,
      "id": "50aff1cb",
      "metadata": {
        "id": "50aff1cb",
        "outputId": "44102fe6-af1d-4e2d-8e31-1e292047ce24"
      },
      "outputs": [
        {
          "name": "stdout",
          "output_type": "stream",
          "text": [
            "p,r,i,y,a\n"
          ]
        }
      ],
      "source": [
        "name = \"priya\"\n",
        "output = \",\".join(name)\n",
        "print(output)"
      ]
    },
    {
      "cell_type": "code",
      "execution_count": null,
      "id": "63c99bad",
      "metadata": {
        "id": "63c99bad",
        "outputId": "21b89b8f-0f24-454b-ebaa-f4bc6a1b322e"
      },
      "outputs": [
        {
          "name": "stdout",
          "output_type": "stream",
          "text": [
            "1 2 3 5 8 13 21 34 55 89 \n"
          ]
        }
      ],
      "source": [
        "n = 10\n",
        "num1 = 0\n",
        "num2 = 1\n",
        "next_number = num2\n",
        "count = 1\n",
        "\n",
        "while count <= n:\n",
        "\tprint(next_number, end=\" \")\n",
        "\tcount += 1\n",
        "\tnum1, num2 = num2, next_number\n",
        "\tnext_number = num1 + num2\n",
        "print()\n"
      ]
    },
    {
      "cell_type": "code",
      "execution_count": null,
      "id": "2ba74abc",
      "metadata": {
        "id": "2ba74abc",
        "outputId": "bbafa61b-1e58-491a-8403-509cb3d90ac2"
      },
      "outputs": [
        {
          "name": "stdout",
          "output_type": "stream",
          "text": [
            "1  2  3  5  8  13  21  34  "
          ]
        }
      ],
      "source": [
        "#fiboncci\n",
        "\n",
        "n=8\n",
        "n1=0\n",
        "n2=1\n",
        "next_number=n2\n",
        "count=1\n",
        "while count<=n:\n",
        "    print(next_number,end=\" \")\n",
        "\n",
        "    n1,n2=n2,next_number\n",
        "    #print(n1,n2)\n",
        "    next_number=n1+n2\n",
        "    print(end=' ')\n",
        "    count+=1\n",
        "\n",
        "\n"
      ]
    },
    {
      "cell_type": "code",
      "execution_count": null,
      "id": "a1618ba3",
      "metadata": {
        "id": "a1618ba3",
        "outputId": "6d60d617-924e-4a6c-a879-569fb22e7510"
      },
      "outputs": [
        {
          "name": "stdout",
          "output_type": "stream",
          "text": [
            "The given number 153 is armstrong number\n"
          ]
        }
      ],
      "source": [
        "# python 3 program\n",
        "# to check whether the given number is armstrong or not\n",
        "# without using power function\n",
        "\n",
        "n = 153 # or n=int(input()) -> taking input from user\n",
        "s = n # assigning input value to the s variable\n",
        "b = len(str(n))\n",
        "sum1 = 0\n",
        "while n != 0:\n",
        "\tr = n % 10\n",
        "\tsum1 = sum1+(r**b)\n",
        "\tn = n//10\n",
        "if s == sum1:\n",
        "\tprint(\"The given number\", s, \"is armstrong number\")\n",
        "else:\n",
        "\tprint(\"The given number\", s, \"is not armstrong number\")\n"
      ]
    },
    {
      "cell_type": "code",
      "execution_count": null,
      "id": "c3f16c37",
      "metadata": {
        "id": "c3f16c37",
        "outputId": "688f357b-86d3-448d-df11-dcd190f0a9ba"
      },
      "outputs": [
        {
          "name": "stdout",
          "output_type": "stream",
          "text": [
            "enter the number: 153\n",
            "the given number 153 is armstrong\n"
          ]
        }
      ],
      "source": [
        "n=int(input('enter the number: '))\n",
        "s=n\n",
        "v=len(str(n))\n",
        "d1=0\n",
        "\n",
        "while n!=0:\n",
        "    r=n%10#remainder,the last digit of n....(3)\n",
        "    d1=d1+(r**v)\n",
        "    n=n//10 #is updated by removing the last digit (using integer division //)...(15)\n",
        "if s==d1:\n",
        "    print('the given number',s,'is armstrong')\n",
        "else:\n",
        "    print('not armstrong',s)"
      ]
    },
    {
      "cell_type": "code",
      "execution_count": null,
      "id": "e224ed9f",
      "metadata": {
        "id": "e224ed9f"
      },
      "outputs": [],
      "source": []
    },
    {
      "cell_type": "code",
      "execution_count": null,
      "id": "68a53345",
      "metadata": {
        "id": "68a53345",
        "outputId": "eed04a29-4c3a-4290-e042-eefa7d7aac57"
      },
      "outputs": [
        {
          "data": {
            "text/plain": [
              "3"
            ]
          },
          "execution_count": 1,
          "metadata": {},
          "output_type": "execute_result"
        }
      ],
      "source": [
        "n = 153 # or n=int(input()) -> taking input from user\n",
        "s = n # assigning input value to the s variable\n",
        "b = len(str(n))\n",
        "b"
      ]
    },
    {
      "cell_type": "code",
      "execution_count": null,
      "id": "37e4f579",
      "metadata": {
        "id": "37e4f579",
        "outputId": "507225d7-31c4-4918-c068-06175c09b537"
      },
      "outputs": [
        {
          "data": {
            "text/plain": [
              "15"
            ]
          },
          "execution_count": 4,
          "metadata": {},
          "output_type": "execute_result"
        }
      ],
      "source": [
        "153//10"
      ]
    },
    {
      "cell_type": "code",
      "execution_count": null,
      "id": "298b9f46",
      "metadata": {
        "id": "298b9f46",
        "outputId": "f6bbdc6f-25eb-461b-8894-2ee5c50ff702"
      },
      "outputs": [
        {
          "data": {
            "text/plain": [
              "3"
            ]
          },
          "execution_count": 1,
          "metadata": {},
          "output_type": "execute_result"
        }
      ],
      "source": [
        "153%10\n"
      ]
    },
    {
      "cell_type": "code",
      "execution_count": null,
      "id": "eefdd42a",
      "metadata": {
        "id": "eefdd42a",
        "outputId": "7782e9f9-079a-49ff-bc48-e4946afbb868"
      },
      "outputs": [
        {
          "data": {
            "text/plain": [
              "27"
            ]
          },
          "execution_count": 3,
          "metadata": {},
          "output_type": "execute_result"
        }
      ],
      "source": [
        "3**3"
      ]
    },
    {
      "cell_type": "code",
      "execution_count": null,
      "id": "56747336",
      "metadata": {
        "id": "56747336",
        "outputId": "80783a8f-7b5b-4500-942a-b560e5d7568e"
      },
      "outputs": [
        {
          "name": "stdout",
          "output_type": "stream",
          "text": [
            "11 prime num\n"
          ]
        }
      ],
      "source": [
        "q=11\n",
        "if q>1:\n",
        "    for i in range(2,int(q/2)+1):\n",
        "        if q%i==0:\n",
        "            print(q,'not prime num')\n",
        "            break\n",
        "    else:\n",
        "        print(q, 'prime num')\n",
        "else:\n",
        "    print(q,'not prime num')"
      ]
    },
    {
      "cell_type": "code",
      "execution_count": null,
      "id": "72cd9cbb",
      "metadata": {
        "id": "72cd9cbb",
        "outputId": "74de2d1a-ef3d-4ab8-af07-4b24fcb52b62"
      },
      "outputs": [
        {
          "name": "stdout",
          "output_type": "stream",
          "text": [
            "enter no; 6\n",
            "1 2 3 5 8 13 21 "
          ]
        }
      ],
      "source": [
        "n=int(input('enter no; '))\n",
        "n1=0\n",
        "n2=1\n",
        "nn=n2\n",
        "count=1\n",
        "while count<=7:\n",
        "    print(nn, end='')\n",
        "    n1,n2=n2,nn\n",
        "    nn=n1+n2\n",
        "    print(end=' ')\n",
        "    count+=1"
      ]
    }
  ],
  "metadata": {
    "kernelspec": {
      "display_name": "Python 3 (ipykernel)",
      "language": "python",
      "name": "python3"
    },
    "language_info": {
      "codemirror_mode": {
        "name": "ipython",
        "version": 3
      },
      "file_extension": ".py",
      "mimetype": "text/x-python",
      "name": "python",
      "nbconvert_exporter": "python",
      "pygments_lexer": "ipython3",
      "version": "3.9.17"
    },
    "colab": {
      "provenance": []
    }
  },
  "nbformat": 4,
  "nbformat_minor": 5
}