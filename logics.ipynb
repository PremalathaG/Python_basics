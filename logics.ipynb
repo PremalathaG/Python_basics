{
  "nbformat": 4,
  "nbformat_minor": 0,
  "metadata": {
    "colab": {
      "provenance": []
    },
    "kernelspec": {
      "name": "python3",
      "display_name": "Python 3"
    },
    "language_info": {
      "name": "python"
    }
  },
  "cells": [
    {
      "cell_type": "code",
      "execution_count": null,
      "metadata": {
        "colab": {
          "base_uri": "https://localhost:8080/"
        },
        "id": "gPd5agawwyRf",
        "outputId": "533a25ec-b7c0-4651-b7f8-61adccf9bb75"
      },
      "outputs": [
        {
          "output_type": "stream",
          "name": "stdout",
          "text": [
            "1\n",
            "2\n",
            "4\n",
            "5\n",
            "6\n"
          ]
        }
      ],
      "source": [
        "#while\n",
        "i = 0\n",
        "while i < 6:\n",
        "  i += 1\n",
        "  if i == 3:\n",
        "    continue\n",
        "  print(i)\n",
        "\n",
        "# Note that number 3 is missing in the result"
      ]
    },
    {
      "cell_type": "code",
      "source": [
        "i = 1\n",
        "while i < 6:\n",
        "  print(i)\n",
        "  i += 1\n",
        "else:\n",
        "  print(\"i is no longer less than 6\")"
      ],
      "metadata": {
        "colab": {
          "base_uri": "https://localhost:8080/"
        },
        "id": "OlSos-1cx5rX",
        "outputId": "24534a6e-ec16-4175-d3e1-b7181742f611"
      },
      "execution_count": null,
      "outputs": [
        {
          "output_type": "stream",
          "name": "stdout",
          "text": [
            "1\n",
            "2\n",
            "3\n",
            "4\n",
            "5\n",
            "i is no longer less than 6\n"
          ]
        }
      ]
    },
    {
      "cell_type": "code",
      "source": [
        "a = [1, 1, 2, 3, 5, 8, 13,21, 34, 55, 89]\n",
        "\n",
        "# basic problem:\n",
        "for x in a:\n",
        "    if x< 5: print(x)\n",
        "\n",
        "# combine challenges 1 and 2:\n",
        "print( [ x for x in a if x<5 ] )"
      ],
      "metadata": {
        "id": "hBKIXu55yl5a",
        "colab": {
          "base_uri": "https://localhost:8080/"
        },
        "outputId": "c815542a-2303-4430-bcc6-2db87f8d14cf"
      },
      "execution_count": null,
      "outputs": [
        {
          "output_type": "stream",
          "name": "stdout",
          "text": [
            "1\n",
            "1\n",
            "2\n",
            "3\n",
            "[1, 1, 2, 3]\n"
          ]
        }
      ]
    },
    {
      "cell_type": "code",
      "source": [
        "#website of practcepython\n",
        "checking_number = int(input('Enter your number: '))\n",
        "\n",
        "x = range(8,checking_number+1)\n",
        "\n",
        "for number in x:\n",
        "  for number_y in x:\n",
        "    if number % number_y == 0:\n",
        "      if number == checking_number:\n",
        "        print('Divisors of your number %s is %s' % (number, number_y))\n",
        "        continue\n",
        "\n"
      ],
      "metadata": {
        "colab": {
          "base_uri": "https://localhost:8080/"
        },
        "id": "_u7XzAx5fnlV",
        "outputId": "d201143f-817b-4851-8324-4617263b7814"
      },
      "execution_count": null,
      "outputs": [
        {
          "output_type": "stream",
          "name": "stdout",
          "text": [
            "Enter your number: 12\n",
            "Divisors of your number 12 is 12\n"
          ]
        }
      ]
    },
    {
      "cell_type": "code",
      "source": [
        "class Mrvettupuli:\n",
        "  drink= 'pulipaal'\n",
        "\n",
        "  def attack(self):\n",
        "    print('male tiger')\n",
        "class Mrsvettupuli(Mrvettupuli):\n",
        "\n",
        "  def anotherattack(self):\n",
        "    print('Femlae tiger')\n",
        "\n",
        "mr = Mrvettupuli()\n",
        "mrs = Mrsvettupuli()\n",
        "print(mr.drink)\n",
        "mr.attack()\n",
        "mrs.anotherattack()"
      ],
      "metadata": {
        "colab": {
          "base_uri": "https://localhost:8080/"
        },
        "id": "tC1lv_2p9gdo",
        "outputId": "618a681f-a675-4539-e1b2-1c771df0d63b"
      },
      "execution_count": null,
      "outputs": [
        {
          "output_type": "stream",
          "name": "stdout",
          "text": [
            "pulipaal\n",
            "male tiger\n",
            "Femlae tiger\n"
          ]
        }
      ]
    },
    {
      "cell_type": "code",
      "source": [
        "print(\"WELCOME TO THE BANK\")\n",
        "print(\"INSERT YOUR CARD\")\n",
        "password=2023\n",
        "choice= 0\n",
        "balance=0\n",
        "pin=int(input(\"Enter your pin number to proceed further: \"))\n",
        "\n",
        "if pin==password:\n",
        "  while choice!=4:\n",
        "    print(\"MENU*****\")\n",
        "    print(\"1=-Balance Enquiry\")\n",
        "    print(\"2--Deposit\")\n",
        "    print(\"3==Withdrawal\")\n",
        "    print(\"4=-cancel\")\n",
        "    choice=int(input(\"Enter your option:\"))\n",
        "    if choice==1:\n",
        "      print(\"Balance:\", balance)\n",
        "    elif choice==2:\n",
        "      dep=int(input(\"How much you wants to deposite:\"))\n",
        "      balance+=dep\n",
        "      print(\"Available Balance:\",balance)\n",
        "      print(\"Deposited Amount:\", dep)\n",
        "    elif choice==3:\n",
        "      wit=int(input(\"How much you wants to withdraw:\"))\n",
        "      balance-=wit\n",
        "      print(\"Withdrawn Amount:\", wit)\n",
        "      print(\"Available Balance:\", balance)\n",
        "    elif (choice ==4):\n",
        "      print(\"Thanks for using this ATM :\")\n",
        "\n",
        "    else:\n",
        "      print(\"Invalid Entry!!\")\n",
        "else:\n",
        "  print(\"INCORRECT PIN!! TRY AGAIN\")"
      ],
      "metadata": {
        "colab": {
          "base_uri": "https://localhost:8080/"
        },
        "id": "VypAI91FJL8Q",
        "outputId": "1eed108f-22c4-4762-b493-08152303951c"
      },
      "execution_count": null,
      "outputs": [
        {
          "output_type": "stream",
          "name": "stdout",
          "text": [
            "WELCOME TO THE BANK\n",
            "INSERT YOUR CARD\n",
            "Enter your pin number to proceed further: 2023\n",
            "MENU*****\n",
            "1=-Balance Enquiry\n",
            "2--Deposit\n",
            "3==Withdrawal\n",
            "4=-cancel\n",
            "Enter your option:1\n",
            "Balance: 0\n",
            "MENU*****\n",
            "1=-Balance Enquiry\n",
            "2--Deposit\n",
            "3==Withdrawal\n",
            "4=-cancel\n",
            "Enter your option:2\n",
            "How much you wants to deposite:200\n",
            "Available Balance: 200\n",
            "Deposited Amount: 200\n",
            "MENU*****\n",
            "1=-Balance Enquiry\n",
            "2--Deposit\n",
            "3==Withdrawal\n",
            "4=-cancel\n",
            "Enter your option:3\n",
            "How much you wants to withdraw:2040\n",
            "Withdrawn Amount: 2040\n",
            "Available Balance: -1840\n",
            "MENU*****\n",
            "1=-Balance Enquiry\n",
            "2--Deposit\n",
            "3==Withdrawal\n",
            "4=-cancel\n",
            "Enter your option:4\n",
            "Thanks for using this ATM :\n"
          ]
        }
      ]
    },
    {
      "cell_type": "code",
      "source": [],
      "metadata": {
        "id": "Ld9xpkBLmV5s"
      },
      "execution_count": null,
      "outputs": []
    },
    {
      "cell_type": "markdown",
      "source": [
        "# New Section"
      ],
      "metadata": {
        "id": "3Khj4JiUmepX"
      }
    },
    {
      "cell_type": "code",
      "source": [
        "x='awesome'\n",
        "def myfunc():\n",
        "  x='fantastic'\n",
        "  print('python is',x)\n",
        "myfunc()\n",
        "print('python is',x)\n"
      ],
      "metadata": {
        "colab": {
          "base_uri": "https://localhost:8080/"
        },
        "id": "RjGiSk6y6AqV",
        "outputId": "311cd7b4-47fc-4855-af71-0efbbf4f7794"
      },
      "execution_count": null,
      "outputs": [
        {
          "output_type": "stream",
          "name": "stdout",
          "text": [
            "python is fantastic\n",
            "python is awesome\n"
          ]
        }
      ]
    },
    {
      "cell_type": "code",
      "source": [
        "x = \"awesome\"\n",
        "\n",
        "def myfunc():\n",
        "  global x\n",
        "  x = \"fantastic\"\n",
        "\n",
        "myfunc()\n",
        "\n",
        "print(\"Python is \" + x)\n",
        "\n",
        "\n",
        "x=frozenset({'apple','banana','mango'})\n",
        "print(x)\n",
        "\n",
        "\n",
        "txt = \"The best things in life are free!\"\n",
        "print(\"free\" in txt)\n",
        "\n",
        "txt = \"The best things in life are free!\"\n",
        "print(\"expensive\" not in txt)\n"
      ],
      "metadata": {
        "colab": {
          "base_uri": "https://localhost:8080/"
        },
        "id": "ByG6Yq416YJq",
        "outputId": "fb6600a3-1762-4e69-d73e-94be2883c868"
      },
      "execution_count": null,
      "outputs": [
        {
          "output_type": "stream",
          "name": "stdout",
          "text": [
            "Python is fantastic\n",
            "frozenset({'apple', 'mango', 'banana'})\n",
            "True\n",
            "True\n"
          ]
        }
      ]
    },
    {
      "cell_type": "code",
      "source": [
        "b = \"Hello World!\"\n",
        "print(b[2:5])\n",
        "\n",
        "print(b[:5])\n",
        "print(b[5:])\n",
        "\n",
        "c = \"Hello World!\"\n",
        "print(c[-5:-2])\n",
        "\n",
        "a = \"Hello, World!\"\n",
        "print(a.replace(\"H\", \"J\"))\n",
        "\n",
        "print(a.replace(\"H\", \"J\" ).replace('l','z'))\n",
        "\n",
        "s='hello'\n",
        "r='priya'\n",
        "print(s+ \" \"+r)\n",
        "\n",
        "name= 'Priyaaa'\n",
        "txt='my name is {}'\n",
        "print(txt.format(name))\n",
        "\n",
        "'''age = 36\n",
        "txt = \"My name is John, I am \" + age\n",
        "print(txt)'''\n",
        "\n",
        "quantity = 3\n",
        "itemno = 567\n",
        "price = 49.95\n",
        "myorder = \"I want to pay {2} dollars for {0} pieces of item {1}.\"\n",
        "print(myorder.format(quantity, itemno, price))\n",
        "\n",
        "txt1 = \"We are the so-called \\\"Vikings\\\" from the north.\"\n",
        "print(txt1)\n",
        "\n"
      ],
      "metadata": {
        "colab": {
          "base_uri": "https://localhost:8080/"
        },
        "id": "1BndPoyQ-h-n",
        "outputId": "6b59aec0-8821-433f-fc3b-80ebe66845bd"
      },
      "execution_count": null,
      "outputs": [
        {
          "output_type": "stream",
          "name": "stdout",
          "text": [
            "llo\n",
            "Hello\n",
            " World!\n",
            "orl\n",
            "Jello, World!\n",
            "Jezzo, Worzd!\n",
            "hello priya\n",
            "my name is Priyaaa\n",
            "I want to pay 49.95 dollars for 3 pieces of item 567.\n",
            "We are the so-called \"Vikings\" from the north.\n"
          ]
        }
      ]
    },
    {
      "cell_type": "code",
      "source": [
        "thislist = list((\"apple\", \"banana\", \"cherry\")) # note the double round-brackets\n",
        "print(thislist)"
      ],
      "metadata": {
        "colab": {
          "base_uri": "https://localhost:8080/"
        },
        "id": "M_AiRMb7-jpp",
        "outputId": "80768d37-7408-4b4f-e976-361f6f3f9c6c"
      },
      "execution_count": null,
      "outputs": [
        {
          "output_type": "stream",
          "name": "stdout",
          "text": [
            "['apple', 'banana', 'cherry']\n"
          ]
        }
      ]
    },
    {
      "cell_type": "code",
      "source": [
        "thislist = [\"apple\", \"banana\", \"cherry\", \"orange\", \"kiwi\", \"melon\", \"mango\"]\n",
        "print(thislist[:4])\n",
        "\n",
        "thislist1 = [\"apple\", \"banana\", \"cherry\"]\n",
        "print(len(thislist1))\n",
        "\n",
        "thislist2 = [\"apple\", \"banana\", \"cherry\", \"orange\", \"kiwi\", \"melon\", \"mango\"]\n",
        "print(thislist2[2:5]) #2 include and 5 not include\n",
        "print(thislist2[-4:-1])\n",
        "print(thislist2[-1:-4])#.................\n",
        "thislist1[1:2]=['mango','pine']#.........The length of the list will change when the number of items inserted does not match the number of items replaced.\n",
        "print(thislist1)\n",
        "\n",
        "\n",
        "thislist4= [\"apple\", \"banana\", \"cherry\"]\n",
        "thislist4.insert(2, \"watermelon\")\n",
        "print(thislist4)\n",
        "\n",
        "#The extend() method does not have to append lists, you can add any iterable object (tuples, sets, dictionaries etc.).\n",
        "\n",
        "thislist0 = [\"apple\", \"banana\", \"cherry\"]\n",
        "thistuple0 = (\"kiwi\", \"orange\")\n",
        "thislist0.extend(thistuple0)\n",
        "print(thislist0)\n",
        "#The pop() method removes the specified index.\n",
        "#If you do not specify the index, the pop() method removes the last item.\n",
        "print(thislist0.pop(2))\n",
        "print(thislist0)\n",
        "#The del keyword can also delete the list completely.\n",
        "#The clear() method empties the list.\n",
        "del thislist0[0]\n",
        "print(thislist0)\n",
        "\n",
        "thislist0.clear()\n",
        "print(thislist0)\n",
        "#.............................................\n",
        "\n",
        "#loop list\n",
        "thislistt = [\"apple\", \"banana\", \"cherry\"]\n",
        "for x in thislistt:\n",
        "  print(x)\n",
        "#[print(x) for x in thislistt]\n",
        "#.......................................................\n",
        "#LIST COMPREHENSION\n",
        "#List comprehension offers a shorter syntax when you want to create a new list based on the values of an existing list.\n",
        "fruites=['apple','banana','cherry','mango','goya','ice']\n",
        "[d for d in fruites if 'a' in d]\n",
        "num=[1,2,'rrr',4,'jjj',6.1,7.4,9,2.1,'kkk',5,6]\n",
        "[g for g in num if not isinstance(g,float)]"
      ],
      "metadata": {
        "colab": {
          "base_uri": "https://localhost:8080/"
        },
        "id": "OcxjlxjPQNS_",
        "outputId": "be02e9b4-9199-4b59-f771-9d45ad8f4c14"
      },
      "execution_count": null,
      "outputs": [
        {
          "output_type": "stream",
          "name": "stdout",
          "text": [
            "['apple', 'banana', 'cherry', 'orange']\n",
            "3\n",
            "['cherry', 'orange', 'kiwi']\n",
            "['orange', 'kiwi', 'melon']\n",
            "[]\n",
            "['apple', 'mango', 'pine', 'cherry']\n",
            "['apple', 'banana', 'watermelon', 'cherry']\n",
            "['apple', 'banana', 'cherry', 'kiwi', 'orange']\n",
            "cherry\n",
            "['apple', 'banana', 'kiwi', 'orange']\n",
            "['banana', 'kiwi', 'orange']\n",
            "[]\n",
            "apple\n",
            "banana\n",
            "cherry\n"
          ]
        },
        {
          "output_type": "execute_result",
          "data": {
            "text/plain": [
              "[1, 2, 'rrr', 4, 'jjj', 9, 'kkk', 5, 6]"
            ]
          },
          "metadata": {},
          "execution_count": 26
        }
      ]
    },
    {
      "cell_type": "code",
      "source": [
        "#tuple\n",
        "tuble=tuple(('apple','banana','mango'))\n",
        "print(tuble)\n",
        "tuble1=('apple','banana','cherry','mango','lemon')\n",
        "print(type(tuble1))\n",
        "y=list(tuble1)\n",
        "y.append('melon')\n",
        "print(y)\n",
        "x=tuple(y)\n",
        "print(x)\n",
        "z=('orange',)\n",
        "x +=z\n",
        "print(x)\n",
        "\n",
        "(green, yellow, *red)= tuble1\n",
        "print(green)\n",
        "print(yellow)\n",
        "print(red)\n",
        "#..................\n",
        "\n",
        "for i in range(len(tuble1)):\n",
        "  print(tuble1[i])\n",
        "\n",
        "\n",
        "print ('#..................')\n",
        "\n",
        "i=0\n",
        "while i<len(tuble1):\n",
        "  print(tuble1[i])\n",
        "  i = i+1\n",
        "\n",
        "\n"
      ],
      "metadata": {
        "id": "rlANnnbfvBnY",
        "colab": {
          "base_uri": "https://localhost:8080/"
        },
        "outputId": "1bcfee66-67f1-408b-9aef-0c9e83186f38"
      },
      "execution_count": null,
      "outputs": [
        {
          "output_type": "stream",
          "name": "stdout",
          "text": [
            "('apple', 'banana', 'mango')\n",
            "<class 'tuple'>\n",
            "['apple', 'banana', 'cherry', 'mango', 'lemon', 'melon']\n",
            "('apple', 'banana', 'cherry', 'mango', 'lemon', 'melon')\n",
            "('apple', 'banana', 'cherry', 'mango', 'lemon', 'melon', 'orange')\n",
            "apple\n",
            "banana\n",
            "['cherry', 'mango', 'lemon']\n",
            "apple\n",
            "banana\n",
            "cherry\n",
            "mango\n",
            "lemon\n",
            "#..................\n",
            "apple\n",
            "banana\n",
            "cherry\n",
            "mango\n",
            "lemon\n"
          ]
        }
      ]
    },
    {
      "cell_type": "code",
      "source": [
        "#set\n",
        "#set unordered,unindexted,unchangeble,duplicates not allowed\n",
        "#once create a set can't change the item but add the item\n",
        "#Two set are combine\n",
        "# remove an item in a set, use the remove(), or the discard() method.\n",
        "# pop() method to remove an item, but this method will remove a random item\n",
        "#The clear() method empties the set:\n",
        "#The del keyword will delete the set completely\n",
        "#joinsets...intersection, union, symmetric_df,\n",
        "\n",
        "thisset = {\"apple\", \"banana\", \"cherry\", True, 1, 2}\n",
        "print(thisset)\n",
        "\n",
        "sett1=set(('apple','mango','cherry','banana','melon'))\n",
        "print(sett1)\n",
        "sett1.add('orange')\n",
        "\n",
        "thisset.update(sett1)\n",
        "print(thisset)\n",
        "\n",
        "lst=['kiwi','grapes']\n",
        "thisset.update(lst)\n",
        "print(thisset)\n",
        "\n",
        "for x in thisset:\n",
        "  print(x)"
      ],
      "metadata": {
        "id": "ZxqhlTkZQfhy",
        "colab": {
          "base_uri": "https://localhost:8080/"
        },
        "outputId": "38bcd0de-e0cc-41cd-8e20-12f657adb9d9"
      },
      "execution_count": null,
      "outputs": [
        {
          "output_type": "stream",
          "name": "stdout",
          "text": [
            "{True, 2, 'apple', 'banana', 'cherry'}\n",
            "{'mango', 'apple', 'melon', 'banana', 'cherry'}\n",
            "{True, 2, 'mango', 'apple', 'melon', 'orange', 'banana', 'cherry'}\n",
            "{True, 2, 'mango', 'grapes', 'kiwi', 'apple', 'melon', 'orange', 'banana', 'cherry'}\n",
            "True\n",
            "2\n",
            "mango\n",
            "grapes\n",
            "kiwi\n",
            "apple\n",
            "melon\n",
            "orange\n",
            "banana\n",
            "cherry\n"
          ]
        }
      ]
    },
    {
      "cell_type": "code",
      "source": [
        "#dictionary\n",
        "#Dictionary items are ordered, changeable, and does not allow duplicates.\n",
        "#Dictionary items are presented in key:value pairs, and can be referred to by using the key name.\n",
        "\n",
        "#Dictionaries cannot have two items with the same key: and overrite it\n",
        "#The update() method will update the dictionary with the items from a given argument.\n",
        "#remove items methods are popitem(last item),clear,del,pop(specified keyname)\n",
        "thisdict = {\n",
        "  \"brand\": \"Ford\",\n",
        "  \"model\": \"Mustang\",\n",
        "  \"year\": 1964,\n",
        "  \"year\": 2020\n",
        "}\n",
        "print(thisdict)\n",
        "\n",
        "print(len(thisdict))\n",
        "\n",
        "dict1={'name': 'PRIYA', 'location': 'salem', 'age':23,'preferd':['chennai','bengalore','salem']}\n",
        "print(dict1)\n",
        "print(dict1.keys())\n",
        "dict1['education']='M.Sc'\n",
        "print(dict1)\n",
        "\n",
        "print(dict1.values())\n",
        "print(dict1.items())\n",
        "\n",
        "\n",
        "for x in dict1:\n",
        "  print(x)\n",
        "  print('#..........')\n",
        "  print(dict1[x])\n",
        "\n",
        "for x,y in dict1.items():\n",
        "  print(x,y)\n",
        "\n",
        "#...............Nested DICt...............\n",
        "dict2= {'phone':{\n",
        "    'name':'sumsung',\n",
        "    'price': 12000\n",
        "\n",
        "},'watch':{\n",
        "    'name':'Fasttrack',\n",
        "    'price':1000\n",
        "}\n",
        "        }\n",
        "print(dict2)\n",
        "\n",
        "print(dict2[\"watch\"][\"name\"])"
      ],
      "metadata": {
        "colab": {
          "base_uri": "https://localhost:8080/"
        },
        "id": "lvCP7uFXjPIL",
        "outputId": "d1202117-ad51-44c9-b468-6445fe39afe5"
      },
      "execution_count": null,
      "outputs": [
        {
          "output_type": "stream",
          "name": "stdout",
          "text": [
            "{'brand': 'Ford', 'model': 'Mustang', 'year': 2020}\n",
            "3\n",
            "{'name': 'PRIYA', 'location': 'salem', 'age': 23, 'preferd': ['chennai', 'bengalore', 'salem']}\n",
            "dict_keys(['name', 'location', 'age', 'preferd'])\n",
            "{'name': 'PRIYA', 'location': 'salem', 'age': 23, 'preferd': ['chennai', 'bengalore', 'salem'], 'education': 'M.Sc'}\n",
            "dict_values(['PRIYA', 'salem', 23, ['chennai', 'bengalore', 'salem'], 'M.Sc'])\n",
            "dict_items([('name', 'PRIYA'), ('location', 'salem'), ('age', 23), ('preferd', ['chennai', 'bengalore', 'salem']), ('education', 'M.Sc')])\n",
            "name\n",
            "#..........\n",
            "PRIYA\n",
            "location\n",
            "#..........\n",
            "salem\n",
            "age\n",
            "#..........\n",
            "23\n",
            "preferd\n",
            "#..........\n",
            "['chennai', 'bengalore', 'salem']\n",
            "education\n",
            "#..........\n",
            "M.Sc\n",
            "name PRIYA\n",
            "location salem\n",
            "age 23\n",
            "preferd ['chennai', 'bengalore', 'salem']\n",
            "education M.Sc\n",
            "{'phone': {'name': 'sumsung', 'price': 12000}, 'watch': {'name': 'Fasttrack', 'price': 1000}}\n",
            "Fasttrack\n"
          ]
        }
      ]
    },
    {
      "cell_type": "code",
      "source": [
        "#if else\n",
        "#and,or,not\n",
        "a = 200\n",
        "b = 330\n",
        "c=150\n",
        "print(\"A is grater\") if a > b else print(\"B is grater\")\n",
        "if a<300 and b>a:\n",
        "  print('both are true')\n"
      ],
      "metadata": {
        "colab": {
          "base_uri": "https://localhost:8080/"
        },
        "id": "psaHiyqst44x",
        "outputId": "486469f3-c9ed-434a-b19c-564f8964eaba"
      },
      "execution_count": null,
      "outputs": [
        {
          "output_type": "stream",
          "name": "stdout",
          "text": [
            "B is grater\n",
            "both are true\n"
          ]
        }
      ]
    },
    {
      "cell_type": "code",
      "source": [
        "#while\n",
        "\n",
        "i=0\n",
        "while i<6:\n",
        "  print(i)\n",
        "  i+=1\n",
        "print(\"\"\"\"\"\"\"\"\"\"\"\"\"\"\"\"\"\"\"\"\"\"\"\"\"\"\"\"\"\")\n",
        "a=0\n",
        "while a<7:\n",
        "  print(a)\n",
        "  if a==4:\n",
        "    break\n",
        "  a+=1\n",
        "\n",
        "print(\"\"\"\"\"\"\"\"\"\"\"\"\"\"\"\"\"\"\"\"\"\"\"\"\"\"\"\"\"\")\n",
        "c=0\n",
        "while c<8:\n",
        "  c+=1\n",
        "  if c==3:\n",
        "    continue\n",
        "  print(c)\n",
        "print(\"\"\"\"\"\"\"\"\"\"\"\"\"\"\"\"\"\"\"\"\"\"\"\"\"\")\n",
        "for u in range(0,60,3):\n",
        "  print(u)\n",
        "print(\"\"\"\"\"\"\"\"\"\"\"\"\"\"\"\"\"\"\"\"\"\"\"\"\"\")\n",
        "#The else block will NOT be executed if the loop is stopped by a break statement.\n",
        "for x in range(6):\n",
        "  if x == 3: break\n",
        "  print(x)\n",
        "else:\n",
        "  print(\"Finally finished!\")\n"
      ],
      "metadata": {
        "colab": {
          "base_uri": "https://localhost:8080/"
        },
        "id": "7KwxGAxKL-Vi",
        "outputId": "fb7cc098-86e3-4638-ebec-adc0ccfb045a"
      },
      "execution_count": null,
      "outputs": [
        {
          "output_type": "stream",
          "name": "stdout",
          "text": [
            "0\n",
            "1\n",
            "2\n",
            "3\n",
            "4\n",
            "5\n",
            "\n",
            "0\n",
            "1\n",
            "2\n",
            "3\n",
            "4\n",
            "\n",
            "1\n",
            "2\n",
            "4\n",
            "5\n",
            "6\n",
            "7\n",
            "8\n",
            "\n",
            "0\n",
            "3\n",
            "6\n",
            "9\n",
            "12\n",
            "15\n",
            "18\n",
            "21\n",
            "24\n",
            "27\n",
            "30\n",
            "33\n",
            "36\n",
            "39\n",
            "42\n",
            "45\n",
            "48\n",
            "51\n",
            "54\n",
            "57\n",
            "\n",
            "0\n",
            "1\n",
            "2\n"
          ]
        }
      ]
    },
    {
      "cell_type": "code",
      "source": [
        "def functionname(fname):\n",
        "  print(fname +' correct')\n",
        "functionname('email')\n",
        "functionname('check')\n",
        "\n",
        "#arbitrary argumet\n",
        "def checkmult(*color):\n",
        "  print(\"to check is correct\", color[2])\n",
        "checkmult('blue','black','green','red')\n",
        "\n",
        "#keyword argument\n",
        "def argufunc(clr1,clr2,clr3):\n",
        "  print(\"my fvrt clr \",clr3,clr2)\n",
        "argufunc(clr1='green',clr2='black', clr3='blue')\n",
        "\n",
        "#Arbitrary Keyword Arguments, **kwargs\n",
        "#f the number of keyword arguments is unknown, add a double ** before the parameter name\n",
        "\n",
        "def names(**words):\n",
        "  print('the words are',words['fword'])\n",
        "names(fword='priya', lword='prema')\n",
        "\n",
        "def my_func(food):\n",
        "  for x in food:\n",
        "    print(x)\n",
        "fruites=['apple','banana','cherry','mango']\n",
        "my_func(fruites)\n",
        "\n",
        "\n",
        "def tri_recursion(k):#.........................\n",
        "  if(k > 0):\n",
        "    result = k + tri_recursion(k - 1)\n",
        "    print(result)\n",
        "  else:\n",
        "    result = 0\n",
        "  return result\n",
        "\n",
        "print(\"\\n\\nRecursion Example Results\")\n",
        "tri_recursion(10)\n",
        "print(\"\"\"\"\"\"\"\"\"\"\"\"\"\"\"\"\"\"\"\"\"\"\"\"\"\"\"\"\"\")\n",
        "\n",
        "#lambda function\n",
        "\n",
        "x= lambda a,b,c:a+b+c\n",
        "print(\"lambda\",x(4,6,8))\n",
        "\n",
        "print(\"\"\"\"\"\"\"\"\"\"\"\"\"\"\"\"\"\"\"\"\"\"\"\"\"\"\"\"\"\")\n",
        "\n",
        "\n",
        "def myfuncc(n):\n",
        "  return lambda a : a * n\n",
        "\n",
        "mytripler = myfuncc(3)\n",
        "\n",
        "print(mytripler(11))\n"
      ],
      "metadata": {
        "colab": {
          "base_uri": "https://localhost:8080/"
        },
        "id": "AdS3f6oFZcJv",
        "outputId": "6984fd59-cff5-4536-c90e-edb5ae8a45c0"
      },
      "execution_count": null,
      "outputs": [
        {
          "output_type": "stream",
          "name": "stdout",
          "text": [
            "email correct\n",
            "check correct\n",
            "to check is correct green\n",
            "my fvrt clr  blue black\n",
            "the words are priya\n",
            "apple\n",
            "banana\n",
            "cherry\n",
            "mango\n",
            "\n",
            "\n",
            "Recursion Example Results\n",
            "1\n",
            "3\n",
            "6\n",
            "10\n",
            "15\n",
            "21\n",
            "28\n",
            "36\n",
            "45\n",
            "55\n",
            "\n",
            "lambda 18\n",
            "\n",
            "33\n"
          ]
        }
      ]
    },
    {
      "cell_type": "code",
      "source": [
        "#Lists, tuples, dictionaries, and sets are all iterable objects. They are iterable containers which you can get an iterator from.\n",
        "\n",
        "#All these objects have a iter() method which is used to get an iterator:\n",
        "\n",
        "mytuple = (\"apple\", \"banana\", \"cherry\")\n",
        "myit = iter(mytuple)\n",
        "\n",
        "print(next(myit))\n",
        "print(next(myit))\n",
        "print(next(myit))"
      ],
      "metadata": {
        "colab": {
          "base_uri": "https://localhost:8080/"
        },
        "id": "-D0y3yoeUa-X",
        "outputId": "edd8215f-6d65-43ae-a5a8-7f5a733ed4c8"
      },
      "execution_count": null,
      "outputs": [
        {
          "output_type": "stream",
          "name": "stdout",
          "text": [
            "apple\n",
            "banana\n",
            "cherry\n"
          ]
        }
      ]
    },
    {
      "cell_type": "code",
      "source": [
        "#Converting an Integer into Decimals\n",
        "import decimal\n",
        "a=10\n",
        "print(decimal.Decimal(a))\n",
        "print(type(decimal.Decimal(a)))\n",
        "\n",
        "#reversing string\n",
        "stri=\"Premalatha\"\n",
        "print(stri[::-1])\n",
        "\n",
        "#counting vowels\n",
        "\n",
        "vowel=['a','e','i','o','u']\n",
        "chart=\"programming\"\n",
        "count=0\n",
        "for s in chart:\n",
        "  if s in vowel:\n",
        "    count+=1\n",
        "print(count)\n",
        "\n",
        "#counting consonants\n",
        "vowel=['a','e','i','o','u']\n",
        "chart=\"programming\"\n",
        "count=0\n",
        "for s in chart:\n",
        "  if s not in vowel:\n",
        "    count+=1\n",
        "print(count)\n",
        "\n",
        "#Counting the Number of Occurances of a Character in a String\n",
        "a='python counting'\n",
        "b= 'p'\n",
        "count=0\n",
        "for w in a:\n",
        "  if w==b:\n",
        "    count+=1\n",
        "print(count)\n",
        "\n",
        "#finding max of list\n",
        "print(\" \")\n",
        "lst=[1,2,3,4,5]\n",
        "print(max(lst))\n",
        "\n",
        "lenlst= int(len(lst)/2)\n",
        "print(\"length of list\" ,lst[lenlst])\n",
        "\n",
        "#join the list into string\n",
        "\n",
        "lst1=['p','y','t','h','o','n']\n",
        "strii=''.join(lst1)\n",
        "print(strii)\n",
        "\n",
        "ls1=[2,4,5]\n",
        "ls2=[1,5,7]\n",
        "res_lst=[]\n",
        "for i in range(0,len(ls1)):\n",
        "  res_lst.append(ls1[i]+ls2[i])\n",
        "  print(res_lst)\n",
        "\n",
        "#comparing word for anagrams\n",
        "str1 = \"Listen\"\n",
        "str2 = \"Silent\"\n",
        "\n",
        "str1 = list(str1.upper())\n",
        "str2 = list(str2.upper())\n",
        "str1.sort(), str2.sort()\n",
        "\n",
        "if(str1 == str2):\n",
        "    print(\"True\")\n",
        "else:\n",
        "    print(\"False\")\n",
        "\n",
        "#palindrome using slicing\n",
        "\n",
        "a1='kayaK'.lower()\n",
        "a2='kayak'.lower()\n",
        "if a1==a2[::-1]:\n",
        "  print('Palindrome')\n",
        "else:\n",
        "  print('not palindrome')\n",
        "\n",
        "#counting white spaces\n",
        "q='pro  gram min g'\n",
        "print(q.count(' '))\n",
        "\n",
        "\n",
        "##Counting Digits, Letters, and Spaces in a String\n",
        "\n",
        "\n",
        "# Importing Regular Expressions Library\n",
        "import re\n",
        "\n",
        "name = 'Python is 1'\n",
        "\n",
        "digitCount = re.sub(\"[^0-9]\", \"\", name)\n",
        "letterCount = re.sub(\"[^a-zA-Z]\", \"\", name)\n",
        "spaceCount = re.findall(\"[ \\n]\", name)\n",
        "\n",
        "print(len(digitCount))\n",
        "print(len(letterCount))\n",
        "print(len(spaceCount))\n",
        "\n",
        "\n",
        "#counting special character in string\n",
        "\n",
        "#A Regular Expression (or Regex) is a pattern (or filter) that describes a set of strings that matches the pattern\n",
        "\n",
        "import re\n",
        "spChar = \"!@#ghjuytr$%^&*()\"\n",
        "\n",
        "count = re.sub('[\\w]+', '', spChar)\n",
        "print(len(count))\n",
        "\n",
        "\n",
        "#removing white speces\n",
        "striii='C O D E'\n",
        "speces=re.compile(r'\\s+')\n",
        "l\n",
        "\n"
      ],
      "metadata": {
        "colab": {
          "base_uri": "https://localhost:8080/"
        },
        "id": "LdMyWz95X93R",
        "outputId": "ad4c4358-8fa4-4854-be23-188626057cfb"
      },
      "execution_count": null,
      "outputs": [
        {
          "output_type": "stream",
          "name": "stdout",
          "text": [
            "10\n",
            "<class 'decimal.Decimal'>\n",
            "ahtalamerP\n",
            "3\n",
            "8\n",
            "1\n",
            " \n",
            "5\n",
            "length of list 3\n",
            "python\n",
            "[3]\n",
            "[3, 9]\n",
            "[3, 9, 12]\n",
            "True\n",
            "Palindrome\n",
            "4\n",
            "1\n",
            "8\n",
            "2\n",
            "10\n"
          ]
        }
      ]
    },
    {
      "cell_type": "code",
      "source": [
        "from datetime import datetime\n",
        "\n",
        "# 2020-02-25\n",
        "date_1 = datetime(2020, 2, 25).date()\n",
        "# 2020-09-17\n",
        "date_2 = datetime(2020, 9, 17).date()\n",
        "\n",
        "delta = None\n",
        "if date_1 > date_2:\n",
        "    print(\"date_1 is greater\")\n",
        "    delta = date_1 - date_2\n",
        "else:\n",
        "    print(\"date_2 is greater\")\n",
        "    delta = date_2 - date_1\n",
        "print(\"Difference is\", delta.days, \"days\")\n"
      ],
      "metadata": {
        "id": "H46G89eQYdCy",
        "colab": {
          "base_uri": "https://localhost:8080/"
        },
        "outputId": "e12f661f-3edc-470b-b206-3d19b03896a1"
      },
      "execution_count": null,
      "outputs": [
        {
          "output_type": "stream",
          "name": "stdout",
          "text": [
            "date_2 is greater\n",
            "Difference is 205 days\n"
          ]
        }
      ]
    }
  ]
}